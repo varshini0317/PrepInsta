{
  "cells": [
    {
      "cell_type": "markdown",
      "metadata": {
        "id": "fxZte1ZuP3yr"
      },
      "source": [
        "# Problem statement\n",
        "\n",
        "Create famous 'Frog leap' puzzle game. Try completing the game before starting to get an idea about its working.\n",
        "[Demonstration](https://www.neok12.com/games/leap-froggies/leap-froggies.htm).\n",
        "\n",
        "\n",
        "### Rules ###\n",
        "1. The left set of frogs can only move right, the right set of frogs can only move left.\n",
        "2. Frogs can move forward one space, or move two spaces by jumping over another frog from opposite side.\n",
        "3. The puzzle is solved when the two sets of frogs have switched positions.\n",
        "\n",
        "\n",
        "## Steps to solve the problem:\n",
        "### Step1:-\n",
        "- Display green and brown frogs on the left and right sides initially.\n",
        "\n",
        "Initial Display :-  \n",
        "```\n",
        "[ 0 ,  1 ,  2 ,  3 ,  4 ,  5 ,  6 ]\n",
        "['G', 'G', 'G', '-', 'B', 'B', 'B']\n",
        "```\n",
        "<br>\n",
        "Here 'G' represents Green frogs on the left side and 'B' represents brown frogs on the right side. The '-' defines the position of empty leaf.\n",
        "(You can change display according to your imagination or convinience)\n",
        "\n",
        "### Step2:-\n",
        "Accept positions of the frog that you want to move.<br>\n",
        "Example: If we enter position 2 then the game will look like this:-\n",
        "```\n",
        "[ 0 ,  1 ,  2 ,  3 ,  4 ,  5 ,  6 ]\n",
        "['G', 'G', '-', 'G', 'B', 'B', 'B']\n",
        "```\n",
        "\n",
        "### Step3:- ###\n",
        "Define Invalid moves and add conditional 'if' statements accordingly\n",
        "#### Rules\n",
        "1. Entered position should be between 0 to 6. Or a character 'q' to quit the game.\n",
        "2. Entered position cannot be the position of empty leaf.\n",
        "3. If the selected frog position cannot perform the contraints given in rule 2 then the move is invalid.\n",
        "\n",
        "### Step4:-\n",
        "Make the appropriate move by changing the game display."
      ]
    },
    {
      "cell_type": "markdown",
      "metadata": {
        "id": "-viYJbAFQXcJ"
      },
      "source": [
        "## Step 1\n",
        "First create a list `positions` which contains the characters 'G','B' and '-' in the same sequence as given in the initial display state."
      ]
    },
    {
      "cell_type": "code",
      "execution_count": null,
      "metadata": {
        "colab": {
          "base_uri": "https://localhost:8080/"
        },
        "id": "fSvLBrjwP0sr",
        "outputId": "51688553-b4fb-48b9-ab29-498af05695c2"
      },
      "outputs": [
        {
          "name": "stdout",
          "output_type": "stream",
          "text": [
            "['G', 'G', 'G', '-', 'B', 'B', 'B']\n"
          ]
        }
      ],
      "source": [
        "### your code here\n",
        "\n",
        "positions = ['G', 'G', 'G', '-', 'B', 'B', 'B']\n",
        "print(positions)"
      ]
    },
    {
      "cell_type": "markdown",
      "metadata": {
        "id": "unr1AJLSQj_4"
      },
      "source": [
        "Now print this string ```[ 0 ,  1 ,  2 ,  3 ,  4 ,  5 ,  6 ]``` and after that print the list `positions`"
      ]
    },
    {
      "cell_type": "code",
      "execution_count": null,
      "metadata": {
        "colab": {
          "base_uri": "https://localhost:8080/"
        },
        "id": "qqKLcfEmQgiZ",
        "outputId": "b8c53caf-52f5-44cf-f3c0-bf2939234291"
      },
      "outputs": [
        {
          "name": "stdout",
          "output_type": "stream",
          "text": [
            "#### Always enter the values less than 7 ####\n",
            "[ 0 ,  1 ,  2 ,  3 ,  4 ,  5 ,  6 ]\n",
            "['G', 'G', 'G', '-', 'B', 'B', 'B']\n"
          ]
        }
      ],
      "source": [
        "### your code here\n",
        "\n",
        "print(\"#### Always enter the values less than 7 ####\")\n",
        "print(\"[ 0 ,  1 ,  2 ,  3 ,  4 ,  5 ,  6 ]\")\n",
        "print(positions)"
      ]
    },
    {
      "cell_type": "markdown",
      "metadata": {
        "id": "DuEVsgtjQqXV"
      },
      "source": [
        "Take position input from user and write a message as `\"Press q to quit else \\nEnter position of piece:\"`."
      ]
    },
    {
      "cell_type": "code",
      "execution_count": null,
      "metadata": {
        "colab": {
          "base_uri": "https://localhost:8080/"
        },
        "id": "nPz65EKXQnDR",
        "outputId": "efd40f02-8530-48cd-b3e4-6c5ded59fe0d"
      },
      "outputs": [
        {
          "name": "stdout",
          "output_type": "stream",
          "text": [
            "Press q to quit \n",
            " Enter position of piece: 2\n"
          ]
        }
      ],
      "source": [
        "### your code here\n",
        "\n",
        "pos = input(\"Press q to quit \\n Enter position of piece: \")"
      ]
    },
    {
      "cell_type": "markdown",
      "metadata": {
        "id": "ejy_x_eTRJmT"
      },
      "source": [
        "Now the taken input is in string format. So first check if the input is `'q'` character. If input is `'q'` then the person is quiting the game so print `'You Lose'`."
      ]
    },
    {
      "cell_type": "code",
      "execution_count": null,
      "metadata": {
        "id": "1OrsC7P9QxO6"
      },
      "outputs": [],
      "source": [
        "### your code here\n",
        "\n",
        "if pos == 'q':\n",
        "  print(\"You Lose\")"
      ]
    },
    {
      "cell_type": "markdown",
      "metadata": {
        "id": "yZJeDTGlRSMe"
      },
      "source": [
        "Next if input character is not `'q'` then it has to be some integer. so convert input to integer format."
      ]
    },
    {
      "cell_type": "code",
      "execution_count": null,
      "metadata": {
        "colab": {
          "base_uri": "https://localhost:8080/"
        },
        "id": "PWZj_Js6RP2G",
        "outputId": "bceac722-b429-48cd-fd8a-9ea42cf09554"
      },
      "outputs": [
        {
          "name": "stdout",
          "output_type": "stream",
          "text": [
            "2\n"
          ]
        }
      ],
      "source": [
        "### your code here\n",
        "pos = int(input())"
      ]
    },
    {
      "cell_type": "markdown",
      "metadata": {
        "id": "SyCzN-cYRXZa"
      },
      "source": [
        "## Step 2\n",
        "Now we have to check validity of the selected positions or move.<br>\n",
        "If the entered number isn't between 0 and 6, then print 'Invalid move'."
      ]
    },
    {
      "cell_type": "code",
      "execution_count": null,
      "metadata": {
        "id": "8_edLqe2RU8S"
      },
      "outputs": [],
      "source": [
        "### your code here\n",
        "\n",
        "if pos < 0 or 6 < pos:\n",
        "  print(\"Invalid Move\")"
      ]
    },
    {
      "cell_type": "markdown",
      "metadata": {
        "id": "Va03g0l5Rlkx"
      },
      "source": [
        "A frog should be present on the selected position to make a move. If leaf is selected then it doesn't make sense. Therefore, if entered postition is same as the postition of empty leaf then the move is invalid and print `Invalid Move`"
      ]
    },
    {
      "cell_type": "code",
      "execution_count": null,
      "metadata": {
        "id": "uM2-D1xGRiH4"
      },
      "outputs": [],
      "source": [
        "### your code here\n",
        "\n",
        "if positions[pos] == '_':\n",
        "  print(\"Invalid Move\")\n"
      ]
    },
    {
      "cell_type": "markdown",
      "metadata": {
        "id": "cp5q2ahQTnwI"
      },
      "source": [
        "Initialize a variable named `pos2` at value 0, to store the index of empty leaf, so that we can use it later."
      ]
    },
    {
      "cell_type": "code",
      "execution_count": null,
      "metadata": {
        "id": "1SkBYDnaTpiV"
      },
      "outputs": [],
      "source": [
        "### your code here"
      ]
    },
    {
      "cell_type": "markdown",
      "metadata": {
        "id": "V9UFD623R3Oa"
      },
      "source": [
        "```   \n",
        "    Check if the selected frog is 'G':\n",
        "  \n",
        "        (Inside if when it's 'G'. As 'G' is selected frog can move to right only.)\n",
        "        \n",
        "        ❗condition 1\n",
        "\n",
        "        If **selected_position + 1** is less than or equal to 6 and **curent_position + 1** contains '-'\n",
        "        then it's a valid move and store that postion in `pos2`.\n",
        "        \n",
        "        ❗condition2\n",
        "\n",
        "        Else if **selected_position + 2** is less than or equal to 6 and if **current_position + 2**\n",
        "        contains '-' and if **selected_position + 1** contains 'B' then it's a valid move  and store that postion in `pos2`.\n",
        "        \n",
        "        ❗condition3:\n",
        "\n",
        "        Else remainig all are invalid, so print `Invalid Move`\n",
        "      \n",
        "```"
      ]
    },
    {
      "cell_type": "code",
      "execution_count": null,
      "metadata": {
        "id": "IDHxpibURriq"
      },
      "outputs": [],
      "source": [
        "### your code here"
      ]
    },
    {
      "cell_type": "markdown",
      "metadata": {
        "id": "DyQX5nUsTZPF"
      },
      "source": [
        "```\n",
        "    Check if the selected frog is 'B':\n",
        "    \n",
        "        (Inside if when it's 'B'. As 'B' is selected frog can move to left only.)\n",
        "        \n",
        "        ❗condition1:\n",
        "\n",
        "        If **selected_position - 1** is more than or equal to 0 and **curent_position - 1** contains '-' then\n",
        "        it's a valid move and and store that postion in `pos2`.\n",
        "        \n",
        "        ❗condition2:\n",
        "\n",
        "        Else if **selected_position - 2** is more than or equal to 0 and if **current_position - 2** contains '-'\n",
        "        and if **selected_position - 1** contains 'G' then it's a valid move and and store that postion in `pos2`.\n",
        "\n",
        "        ❗condition3:\n",
        "        \n",
        "        Else remainig all are invalid,, so print `Invalid Move`.\n",
        "        \n",
        "```"
      ]
    },
    {
      "cell_type": "code",
      "execution_count": null,
      "metadata": {
        "id": "cQ2G3ZO_TWU5"
      },
      "outputs": [],
      "source": [
        "### your code here"
      ]
    },
    {
      "cell_type": "markdown",
      "metadata": {
        "id": "Vads2oztUd4g"
      },
      "source": [
        "Swap the element at selected positions and calculated position2 in the list.<br> So basically we are moving the frog to next valid position by swapping elelments of array."
      ]
    },
    {
      "cell_type": "code",
      "execution_count": null,
      "metadata": {
        "id": "jXOGtww7UeYQ"
      },
      "outputs": [],
      "source": [
        "### your code here"
      ]
    },
    {
      "cell_type": "markdown",
      "metadata": {
        "id": "8qF4Q2HsUlZ4"
      },
      "source": [
        "Now print the display of the game again to see the change.<br>\n",
        "If we enter position 2 then the output will look like this:-\n",
        "```\n",
        "[ 0 ,  1 ,  2 ,  3 ,  4 ,  5 ,  6 ]\n",
        "['G', 'G', '-', 'G', 'B', 'B', 'B']\n",
        "```"
      ]
    },
    {
      "cell_type": "code",
      "execution_count": null,
      "metadata": {
        "id": "0S3oNzG3UifK"
      },
      "outputs": [],
      "source": [
        "### your code here"
      ]
    },
    {
      "cell_type": "markdown",
      "metadata": {
        "id": "EILVGu48UsH-"
      },
      "source": [
        "Check for winning condition by comparing the elements of list. If player has won the game print `'You Win'`"
      ]
    },
    {
      "cell_type": "code",
      "execution_count": null,
      "metadata": {
        "id": "GYkZdiA6Uote"
      },
      "outputs": [],
      "source": [
        "### your code here"
      ]
    },
    {
      "cell_type": "markdown",
      "metadata": {
        "id": "a2a0HHjiUyQ8"
      },
      "source": [
        "Now the game should keep running until the player quits, so place all conditional statements inside an infinite loop.<br>\n",
        "\n",
        "1. We have to `'break'` the loop if the player presses `'q'` and quits.\n",
        "\n",
        "2. If the move made by player is `'Invalid Move'` then we have to `'continue'` without executing remaining part of the selected iteration.\n",
        "\n",
        "3. If player wins the game we have to `break` the loop.\n",
        "\n",
        "\n",
        "```\n",
        "Infinite loop:\n",
        "    (inside loop)\n",
        "    1.Take input\n",
        "    2.Check all valid and invalid conditions of `pos`.\n",
        "    3.Make the appropriate move by calculating `pos2`.\n",
        "    4.Display game\n",
        "    4.Check winning condition\n",
        "```"
      ]
    },
    {
      "cell_type": "markdown",
      "metadata": {
        "id": "cgb5t50zM3ZB"
      },
      "source": [
        " Below is a documented version of the provided code, including explanations for each function and variable:"
      ]
    },
    {
      "cell_type": "code",
      "execution_count": null,
      "metadata": {
        "colab": {
          "background_save": true,
          "base_uri": "https://localhost:8080/"
        },
        "id": "kgTciz2QMp4p",
        "outputId": "489f6043-7dd0-463d-f5fc-a56cc84e3e8a"
      },
      "outputs": [
        {
          "name": "stdout",
          "output_type": "stream",
          "text": [
            "[ 0 , 1 , 2 , 3 , 4 , 5 , 6 ]\n",
            "['G', 'G', 'G', '-', 'B', 'B', 'B']\n",
            "Invalid Move\n",
            "[ 0 , 1 , 2 , 3 , 4 , 5 , 6 ]\n",
            "['G', 'G', '-', 'G', 'B', 'B', 'B']\n",
            "[ 0 , 1 , 2 , 3 , 4 , 5 , 6 ]\n",
            "['G', 'G', 'B', 'G', '-', 'B', 'B']\n"
          ]
        }
      ],
      "source": [
        "# Step 1: Initialize the positions list\n",
        "positions = ['G', 'G', 'G', '-', 'B', 'B', 'B']\n",
        "\n",
        "# Step 2: Display the initial state of the game\n",
        "print(\"[ 0 , 1 , 2 , 3 , 4 , 5 , 6 ]\")\n",
        "print(positions)\n",
        "\n",
        "# Game Loop\n",
        "while True:\n",
        "    # Step 3: Take input from the user\n",
        "    move = input(\"Press 'q' to quit. Enter position of piece: \")\n",
        "\n",
        "    # Step 4: Check if the user wants to quit\n",
        "    if move.lower() == 'q':\n",
        "        print(\"You Lose\")\n",
        "        break  # Exit the loop if the user quits\n",
        "\n",
        "    # Step 5: Convert input to an integer\n",
        "    move = int(move)\n",
        "\n",
        "    # Step 6: Check for valid move\n",
        "    if move < 0 or move > 6:\n",
        "        print(\"Invalid move\")\n",
        "        continue  # Continue to the next iteration if the move is invalid\n",
        "\n",
        "    # Step 7: Check if the selected position contains a frog\n",
        "    if positions[move] == '-':\n",
        "        print(\"Invalid Move\")\n",
        "        continue  # Continue to the next iteration if the move is invalid\n",
        "\n",
        "    # Step 8: Initialize a variable empty_index to store the index of the empty leaf\n",
        "    empty_index = 0\n",
        "\n",
        "    # Step 9: Check if the selected frog is 'G' (Green)\n",
        "    if positions[move] == 'G':\n",
        "        # Condition 1\n",
        "        if move + 1 <= 6 and positions[move + 1] == '-':\n",
        "            empty_index = move + 1\n",
        "        # Condition 2\n",
        "        elif move + 2 <= 6 and positions[move + 2] == '-' and positions[move + 1] == 'B':\n",
        "            empty_index = move + 2\n",
        "        else:\n",
        "            print(\"Invalid Move\")\n",
        "            continue\n",
        "    # Step 10: Check if the selected frog is 'B' (Brown)\n",
        "    elif positions[move] == 'B':\n",
        "        # Condition 1\n",
        "        if move - 1 >= 0 and positions[move - 1] == '-':\n",
        "            empty_index = move - 1\n",
        "        # Condition 2\n",
        "        elif move - 2 >= 0 and positions[move - 2] == '-' and positions[move - 1] == 'G':\n",
        "            empty_index = move - 2\n",
        "        else:\n",
        "            print(\"Invalid Move\")\n",
        "            continue\n",
        "\n",
        "    # Step 11: Swap the elements at the selected position and empty_index\n",
        "    positions[move], positions[empty_index] = positions[empty_index], positions[move]\n",
        "\n",
        "    # Step 12: Display the updated game state\n",
        "    print(\"[ 0 , 1 , 2 , 3 , 4 , 5 , 6 ]\")\n",
        "    print(positions)\n",
        "\n",
        "    # Step 13: Check for winning condition\n",
        "    if positions == ['B', 'B', 'B', '-', 'G', 'G', 'G']:\n",
        "        print(\"You Win!\")\n",
        "        break  # Exit the loop if the player wins\n"
      ]
    },
    {
      "cell_type": "markdown",
      "metadata": {
        "id": "irTDAxMzM7ec"
      },
      "source": [
        "This code implements the Frog Leap puzzle game, including comments for each step to explain the purpose and function of the code. No external references or inspirations were used for this simple console-based game."
      ]
    }
  ],
  "metadata": {
    "colab": {
      "provenance": []
    },
    "kernelspec": {
      "display_name": "Python 3",
      "name": "python3"
    },
    "language_info": {
      "name": "python"
    }
  },
  "nbformat": 4,
  "nbformat_minor": 0
}