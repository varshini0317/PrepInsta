{
  "cells": [
    {
      "cell_type": "code",
      "execution_count": 182,
      "id": "dc4401bb",
      "metadata": {
        "id": "dc4401bb"
      },
      "outputs": [],
      "source": [
        "import pandas as pd"
      ]
    },
    {
      "cell_type": "code",
      "execution_count": 183,
      "id": "21bcb8b6",
      "metadata": {
        "colab": {
          "base_uri": "https://localhost:8080/",
          "height": 958
        },
        "id": "21bcb8b6",
        "outputId": "44d7eb6c-e0a0-4b68-c7a4-fd0170a52adb"
      },
      "outputs": [
        {
          "output_type": "execute_result",
          "data": {
            "text/plain": [
              "    Index   Age      Salary  Rating       Location  Established EasyApply\n",
              "0       0  44.0   $44k-$99k     5.4       India,In         1999      TRUE\n",
              "1       1  66.0   $55k-$66k     3.5    New York,Ny         2002      TRUE\n",
              "2       2   NaN   $77k-$89k    -1.0    New York,Ny           -1        -1\n",
              "3       3  64.0   $44k-$99k     4.4       India In         1988        -1\n",
              "4       4  25.0   $44k-$99k     6.4  Australia Aus         2002        -1\n",
              "5       5  44.0   $77k-$89k     1.4       India,In         1999      TRUE\n",
              "6       6  21.0   $44k-$99k     0.0    New York,Ny           -1        -1\n",
              "7       7  44.0   $44k-$99k    -1.0  Australia Aus           -1        -1\n",
              "8       8  35.0   $44k-$99k     5.4    New York,Ny           -1        -1\n",
              "9       9  22.0   $44k-$99k     7.7       India,In           -1      TRUE\n",
              "10     10  55.0   $10k-$49k     5.4       India,In         2008      TRUE\n",
              "11     11  44.0   $10k-$49k     6.7       India,In         2009        -1\n",
              "12     12   NaN   $44k-$99k     0.0       India,In         1999        -1\n",
              "13     13  25.0   $44k-$99k    -1.0  Australia Aus         2019      TRUE\n",
              "14     14  66.0   $44k-$99k     4.0  Australia Aus         2020      TRUE\n",
              "15     15  44.0  $88k-$101k     3.0  Australia Aus         1999        -1\n",
              "16     16  19.0   $19k-$40k     4.5       India,In         1984        -1\n",
              "17     17   NaN   $44k-$99k     5.3    New York,Ny         1943      TRUE\n",
              "18     18  35.0   $44k-$99k     6.7    New York,Ny         1954      TRUE\n",
              "19     19  32.0   $44k-$99k     3.3    New York,Ny         1955      TRUE\n",
              "20     20   NaN   $44k-$99k     5.7    New York,Ny         1944      TRUE\n",
              "21     21  35.0   $44k-$99k     5.0    New York,Ny         1946        -1\n",
              "22     22  19.0   $55k-$66k     7.8    New York,Ny         1988      TRUE\n",
              "23     23   NaN   $44k-$99k     2.4    New York,Ny         1999      TRUE\n",
              "24     24  13.0   $44k-$99k    -1.0    New York,Ny         1987        -1\n",
              "25     25  55.0   $44k-$99k     0.0  Australia Aus         1980      TRUE\n",
              "26     26   NaN   $55k-$66k     NaN       India,In         1934      TRUE\n",
              "27     27  52.0   $44k-$99k     5.4       India,In         1935        -1\n",
              "28     28   NaN   $39k-$88k     3.4  Australia Aus         1932        -1"
            ],
            "text/html": [
              "\n",
              "  <div id=\"df-d3bd6e0a-5629-4a5c-8c19-f83e7ea39205\" class=\"colab-df-container\">\n",
              "    <div>\n",
              "<style scoped>\n",
              "    .dataframe tbody tr th:only-of-type {\n",
              "        vertical-align: middle;\n",
              "    }\n",
              "\n",
              "    .dataframe tbody tr th {\n",
              "        vertical-align: top;\n",
              "    }\n",
              "\n",
              "    .dataframe thead th {\n",
              "        text-align: right;\n",
              "    }\n",
              "</style>\n",
              "<table border=\"1\" class=\"dataframe\">\n",
              "  <thead>\n",
              "    <tr style=\"text-align: right;\">\n",
              "      <th></th>\n",
              "      <th>Index</th>\n",
              "      <th>Age</th>\n",
              "      <th>Salary</th>\n",
              "      <th>Rating</th>\n",
              "      <th>Location</th>\n",
              "      <th>Established</th>\n",
              "      <th>EasyApply</th>\n",
              "    </tr>\n",
              "  </thead>\n",
              "  <tbody>\n",
              "    <tr>\n",
              "      <th>0</th>\n",
              "      <td>0</td>\n",
              "      <td>44.0</td>\n",
              "      <td>$44k-$99k</td>\n",
              "      <td>5.4</td>\n",
              "      <td>India,In</td>\n",
              "      <td>1999</td>\n",
              "      <td>TRUE</td>\n",
              "    </tr>\n",
              "    <tr>\n",
              "      <th>1</th>\n",
              "      <td>1</td>\n",
              "      <td>66.0</td>\n",
              "      <td>$55k-$66k</td>\n",
              "      <td>3.5</td>\n",
              "      <td>New York,Ny</td>\n",
              "      <td>2002</td>\n",
              "      <td>TRUE</td>\n",
              "    </tr>\n",
              "    <tr>\n",
              "      <th>2</th>\n",
              "      <td>2</td>\n",
              "      <td>NaN</td>\n",
              "      <td>$77k-$89k</td>\n",
              "      <td>-1.0</td>\n",
              "      <td>New York,Ny</td>\n",
              "      <td>-1</td>\n",
              "      <td>-1</td>\n",
              "    </tr>\n",
              "    <tr>\n",
              "      <th>3</th>\n",
              "      <td>3</td>\n",
              "      <td>64.0</td>\n",
              "      <td>$44k-$99k</td>\n",
              "      <td>4.4</td>\n",
              "      <td>India In</td>\n",
              "      <td>1988</td>\n",
              "      <td>-1</td>\n",
              "    </tr>\n",
              "    <tr>\n",
              "      <th>4</th>\n",
              "      <td>4</td>\n",
              "      <td>25.0</td>\n",
              "      <td>$44k-$99k</td>\n",
              "      <td>6.4</td>\n",
              "      <td>Australia Aus</td>\n",
              "      <td>2002</td>\n",
              "      <td>-1</td>\n",
              "    </tr>\n",
              "    <tr>\n",
              "      <th>5</th>\n",
              "      <td>5</td>\n",
              "      <td>44.0</td>\n",
              "      <td>$77k-$89k</td>\n",
              "      <td>1.4</td>\n",
              "      <td>India,In</td>\n",
              "      <td>1999</td>\n",
              "      <td>TRUE</td>\n",
              "    </tr>\n",
              "    <tr>\n",
              "      <th>6</th>\n",
              "      <td>6</td>\n",
              "      <td>21.0</td>\n",
              "      <td>$44k-$99k</td>\n",
              "      <td>0.0</td>\n",
              "      <td>New York,Ny</td>\n",
              "      <td>-1</td>\n",
              "      <td>-1</td>\n",
              "    </tr>\n",
              "    <tr>\n",
              "      <th>7</th>\n",
              "      <td>7</td>\n",
              "      <td>44.0</td>\n",
              "      <td>$44k-$99k</td>\n",
              "      <td>-1.0</td>\n",
              "      <td>Australia Aus</td>\n",
              "      <td>-1</td>\n",
              "      <td>-1</td>\n",
              "    </tr>\n",
              "    <tr>\n",
              "      <th>8</th>\n",
              "      <td>8</td>\n",
              "      <td>35.0</td>\n",
              "      <td>$44k-$99k</td>\n",
              "      <td>5.4</td>\n",
              "      <td>New York,Ny</td>\n",
              "      <td>-1</td>\n",
              "      <td>-1</td>\n",
              "    </tr>\n",
              "    <tr>\n",
              "      <th>9</th>\n",
              "      <td>9</td>\n",
              "      <td>22.0</td>\n",
              "      <td>$44k-$99k</td>\n",
              "      <td>7.7</td>\n",
              "      <td>India,In</td>\n",
              "      <td>-1</td>\n",
              "      <td>TRUE</td>\n",
              "    </tr>\n",
              "    <tr>\n",
              "      <th>10</th>\n",
              "      <td>10</td>\n",
              "      <td>55.0</td>\n",
              "      <td>$10k-$49k</td>\n",
              "      <td>5.4</td>\n",
              "      <td>India,In</td>\n",
              "      <td>2008</td>\n",
              "      <td>TRUE</td>\n",
              "    </tr>\n",
              "    <tr>\n",
              "      <th>11</th>\n",
              "      <td>11</td>\n",
              "      <td>44.0</td>\n",
              "      <td>$10k-$49k</td>\n",
              "      <td>6.7</td>\n",
              "      <td>India,In</td>\n",
              "      <td>2009</td>\n",
              "      <td>-1</td>\n",
              "    </tr>\n",
              "    <tr>\n",
              "      <th>12</th>\n",
              "      <td>12</td>\n",
              "      <td>NaN</td>\n",
              "      <td>$44k-$99k</td>\n",
              "      <td>0.0</td>\n",
              "      <td>India,In</td>\n",
              "      <td>1999</td>\n",
              "      <td>-1</td>\n",
              "    </tr>\n",
              "    <tr>\n",
              "      <th>13</th>\n",
              "      <td>13</td>\n",
              "      <td>25.0</td>\n",
              "      <td>$44k-$99k</td>\n",
              "      <td>-1.0</td>\n",
              "      <td>Australia Aus</td>\n",
              "      <td>2019</td>\n",
              "      <td>TRUE</td>\n",
              "    </tr>\n",
              "    <tr>\n",
              "      <th>14</th>\n",
              "      <td>14</td>\n",
              "      <td>66.0</td>\n",
              "      <td>$44k-$99k</td>\n",
              "      <td>4.0</td>\n",
              "      <td>Australia Aus</td>\n",
              "      <td>2020</td>\n",
              "      <td>TRUE</td>\n",
              "    </tr>\n",
              "    <tr>\n",
              "      <th>15</th>\n",
              "      <td>15</td>\n",
              "      <td>44.0</td>\n",
              "      <td>$88k-$101k</td>\n",
              "      <td>3.0</td>\n",
              "      <td>Australia Aus</td>\n",
              "      <td>1999</td>\n",
              "      <td>-1</td>\n",
              "    </tr>\n",
              "    <tr>\n",
              "      <th>16</th>\n",
              "      <td>16</td>\n",
              "      <td>19.0</td>\n",
              "      <td>$19k-$40k</td>\n",
              "      <td>4.5</td>\n",
              "      <td>India,In</td>\n",
              "      <td>1984</td>\n",
              "      <td>-1</td>\n",
              "    </tr>\n",
              "    <tr>\n",
              "      <th>17</th>\n",
              "      <td>17</td>\n",
              "      <td>NaN</td>\n",
              "      <td>$44k-$99k</td>\n",
              "      <td>5.3</td>\n",
              "      <td>New York,Ny</td>\n",
              "      <td>1943</td>\n",
              "      <td>TRUE</td>\n",
              "    </tr>\n",
              "    <tr>\n",
              "      <th>18</th>\n",
              "      <td>18</td>\n",
              "      <td>35.0</td>\n",
              "      <td>$44k-$99k</td>\n",
              "      <td>6.7</td>\n",
              "      <td>New York,Ny</td>\n",
              "      <td>1954</td>\n",
              "      <td>TRUE</td>\n",
              "    </tr>\n",
              "    <tr>\n",
              "      <th>19</th>\n",
              "      <td>19</td>\n",
              "      <td>32.0</td>\n",
              "      <td>$44k-$99k</td>\n",
              "      <td>3.3</td>\n",
              "      <td>New York,Ny</td>\n",
              "      <td>1955</td>\n",
              "      <td>TRUE</td>\n",
              "    </tr>\n",
              "    <tr>\n",
              "      <th>20</th>\n",
              "      <td>20</td>\n",
              "      <td>NaN</td>\n",
              "      <td>$44k-$99k</td>\n",
              "      <td>5.7</td>\n",
              "      <td>New York,Ny</td>\n",
              "      <td>1944</td>\n",
              "      <td>TRUE</td>\n",
              "    </tr>\n",
              "    <tr>\n",
              "      <th>21</th>\n",
              "      <td>21</td>\n",
              "      <td>35.0</td>\n",
              "      <td>$44k-$99k</td>\n",
              "      <td>5.0</td>\n",
              "      <td>New York,Ny</td>\n",
              "      <td>1946</td>\n",
              "      <td>-1</td>\n",
              "    </tr>\n",
              "    <tr>\n",
              "      <th>22</th>\n",
              "      <td>22</td>\n",
              "      <td>19.0</td>\n",
              "      <td>$55k-$66k</td>\n",
              "      <td>7.8</td>\n",
              "      <td>New York,Ny</td>\n",
              "      <td>1988</td>\n",
              "      <td>TRUE</td>\n",
              "    </tr>\n",
              "    <tr>\n",
              "      <th>23</th>\n",
              "      <td>23</td>\n",
              "      <td>NaN</td>\n",
              "      <td>$44k-$99k</td>\n",
              "      <td>2.4</td>\n",
              "      <td>New York,Ny</td>\n",
              "      <td>1999</td>\n",
              "      <td>TRUE</td>\n",
              "    </tr>\n",
              "    <tr>\n",
              "      <th>24</th>\n",
              "      <td>24</td>\n",
              "      <td>13.0</td>\n",
              "      <td>$44k-$99k</td>\n",
              "      <td>-1.0</td>\n",
              "      <td>New York,Ny</td>\n",
              "      <td>1987</td>\n",
              "      <td>-1</td>\n",
              "    </tr>\n",
              "    <tr>\n",
              "      <th>25</th>\n",
              "      <td>25</td>\n",
              "      <td>55.0</td>\n",
              "      <td>$44k-$99k</td>\n",
              "      <td>0.0</td>\n",
              "      <td>Australia Aus</td>\n",
              "      <td>1980</td>\n",
              "      <td>TRUE</td>\n",
              "    </tr>\n",
              "    <tr>\n",
              "      <th>26</th>\n",
              "      <td>26</td>\n",
              "      <td>NaN</td>\n",
              "      <td>$55k-$66k</td>\n",
              "      <td>NaN</td>\n",
              "      <td>India,In</td>\n",
              "      <td>1934</td>\n",
              "      <td>TRUE</td>\n",
              "    </tr>\n",
              "    <tr>\n",
              "      <th>27</th>\n",
              "      <td>27</td>\n",
              "      <td>52.0</td>\n",
              "      <td>$44k-$99k</td>\n",
              "      <td>5.4</td>\n",
              "      <td>India,In</td>\n",
              "      <td>1935</td>\n",
              "      <td>-1</td>\n",
              "    </tr>\n",
              "    <tr>\n",
              "      <th>28</th>\n",
              "      <td>28</td>\n",
              "      <td>NaN</td>\n",
              "      <td>$39k-$88k</td>\n",
              "      <td>3.4</td>\n",
              "      <td>Australia Aus</td>\n",
              "      <td>1932</td>\n",
              "      <td>-1</td>\n",
              "    </tr>\n",
              "  </tbody>\n",
              "</table>\n",
              "</div>\n",
              "    <div class=\"colab-df-buttons\">\n",
              "\n",
              "  <div class=\"colab-df-container\">\n",
              "    <button class=\"colab-df-convert\" onclick=\"convertToInteractive('df-d3bd6e0a-5629-4a5c-8c19-f83e7ea39205')\"\n",
              "            title=\"Convert this dataframe to an interactive table.\"\n",
              "            style=\"display:none;\">\n",
              "\n",
              "  <svg xmlns=\"http://www.w3.org/2000/svg\" height=\"24px\" viewBox=\"0 -960 960 960\">\n",
              "    <path d=\"M120-120v-720h720v720H120Zm60-500h600v-160H180v160Zm220 220h160v-160H400v160Zm0 220h160v-160H400v160ZM180-400h160v-160H180v160Zm440 0h160v-160H620v160ZM180-180h160v-160H180v160Zm440 0h160v-160H620v160Z\"/>\n",
              "  </svg>\n",
              "    </button>\n",
              "\n",
              "  <style>\n",
              "    .colab-df-container {\n",
              "      display:flex;\n",
              "      gap: 12px;\n",
              "    }\n",
              "\n",
              "    .colab-df-convert {\n",
              "      background-color: #E8F0FE;\n",
              "      border: none;\n",
              "      border-radius: 50%;\n",
              "      cursor: pointer;\n",
              "      display: none;\n",
              "      fill: #1967D2;\n",
              "      height: 32px;\n",
              "      padding: 0 0 0 0;\n",
              "      width: 32px;\n",
              "    }\n",
              "\n",
              "    .colab-df-convert:hover {\n",
              "      background-color: #E2EBFA;\n",
              "      box-shadow: 0px 1px 2px rgba(60, 64, 67, 0.3), 0px 1px 3px 1px rgba(60, 64, 67, 0.15);\n",
              "      fill: #174EA6;\n",
              "    }\n",
              "\n",
              "    .colab-df-buttons div {\n",
              "      margin-bottom: 4px;\n",
              "    }\n",
              "\n",
              "    [theme=dark] .colab-df-convert {\n",
              "      background-color: #3B4455;\n",
              "      fill: #D2E3FC;\n",
              "    }\n",
              "\n",
              "    [theme=dark] .colab-df-convert:hover {\n",
              "      background-color: #434B5C;\n",
              "      box-shadow: 0px 1px 3px 1px rgba(0, 0, 0, 0.15);\n",
              "      filter: drop-shadow(0px 1px 2px rgba(0, 0, 0, 0.3));\n",
              "      fill: #FFFFFF;\n",
              "    }\n",
              "  </style>\n",
              "\n",
              "    <script>\n",
              "      const buttonEl =\n",
              "        document.querySelector('#df-d3bd6e0a-5629-4a5c-8c19-f83e7ea39205 button.colab-df-convert');\n",
              "      buttonEl.style.display =\n",
              "        google.colab.kernel.accessAllowed ? 'block' : 'none';\n",
              "\n",
              "      async function convertToInteractive(key) {\n",
              "        const element = document.querySelector('#df-d3bd6e0a-5629-4a5c-8c19-f83e7ea39205');\n",
              "        const dataTable =\n",
              "          await google.colab.kernel.invokeFunction('convertToInteractive',\n",
              "                                                    [key], {});\n",
              "        if (!dataTable) return;\n",
              "\n",
              "        const docLinkHtml = 'Like what you see? Visit the ' +\n",
              "          '<a target=\"_blank\" href=https://colab.research.google.com/notebooks/data_table.ipynb>data table notebook</a>'\n",
              "          + ' to learn more about interactive tables.';\n",
              "        element.innerHTML = '';\n",
              "        dataTable['output_type'] = 'display_data';\n",
              "        await google.colab.output.renderOutput(dataTable, element);\n",
              "        const docLink = document.createElement('div');\n",
              "        docLink.innerHTML = docLinkHtml;\n",
              "        element.appendChild(docLink);\n",
              "      }\n",
              "    </script>\n",
              "  </div>\n",
              "\n",
              "\n",
              "<div id=\"df-14270098-5072-47aa-ba52-0092eccfe227\">\n",
              "  <button class=\"colab-df-quickchart\" onclick=\"quickchart('df-14270098-5072-47aa-ba52-0092eccfe227')\"\n",
              "            title=\"Suggest charts\"\n",
              "            style=\"display:none;\">\n",
              "\n",
              "<svg xmlns=\"http://www.w3.org/2000/svg\" height=\"24px\"viewBox=\"0 0 24 24\"\n",
              "     width=\"24px\">\n",
              "    <g>\n",
              "        <path d=\"M19 3H5c-1.1 0-2 .9-2 2v14c0 1.1.9 2 2 2h14c1.1 0 2-.9 2-2V5c0-1.1-.9-2-2-2zM9 17H7v-7h2v7zm4 0h-2V7h2v10zm4 0h-2v-4h2v4z\"/>\n",
              "    </g>\n",
              "</svg>\n",
              "  </button>\n",
              "\n",
              "<style>\n",
              "  .colab-df-quickchart {\n",
              "      --bg-color: #E8F0FE;\n",
              "      --fill-color: #1967D2;\n",
              "      --hover-bg-color: #E2EBFA;\n",
              "      --hover-fill-color: #174EA6;\n",
              "      --disabled-fill-color: #AAA;\n",
              "      --disabled-bg-color: #DDD;\n",
              "  }\n",
              "\n",
              "  [theme=dark] .colab-df-quickchart {\n",
              "      --bg-color: #3B4455;\n",
              "      --fill-color: #D2E3FC;\n",
              "      --hover-bg-color: #434B5C;\n",
              "      --hover-fill-color: #FFFFFF;\n",
              "      --disabled-bg-color: #3B4455;\n",
              "      --disabled-fill-color: #666;\n",
              "  }\n",
              "\n",
              "  .colab-df-quickchart {\n",
              "    background-color: var(--bg-color);\n",
              "    border: none;\n",
              "    border-radius: 50%;\n",
              "    cursor: pointer;\n",
              "    display: none;\n",
              "    fill: var(--fill-color);\n",
              "    height: 32px;\n",
              "    padding: 0;\n",
              "    width: 32px;\n",
              "  }\n",
              "\n",
              "  .colab-df-quickchart:hover {\n",
              "    background-color: var(--hover-bg-color);\n",
              "    box-shadow: 0 1px 2px rgba(60, 64, 67, 0.3), 0 1px 3px 1px rgba(60, 64, 67, 0.15);\n",
              "    fill: var(--button-hover-fill-color);\n",
              "  }\n",
              "\n",
              "  .colab-df-quickchart-complete:disabled,\n",
              "  .colab-df-quickchart-complete:disabled:hover {\n",
              "    background-color: var(--disabled-bg-color);\n",
              "    fill: var(--disabled-fill-color);\n",
              "    box-shadow: none;\n",
              "  }\n",
              "\n",
              "  .colab-df-spinner {\n",
              "    border: 2px solid var(--fill-color);\n",
              "    border-color: transparent;\n",
              "    border-bottom-color: var(--fill-color);\n",
              "    animation:\n",
              "      spin 1s steps(1) infinite;\n",
              "  }\n",
              "\n",
              "  @keyframes spin {\n",
              "    0% {\n",
              "      border-color: transparent;\n",
              "      border-bottom-color: var(--fill-color);\n",
              "      border-left-color: var(--fill-color);\n",
              "    }\n",
              "    20% {\n",
              "      border-color: transparent;\n",
              "      border-left-color: var(--fill-color);\n",
              "      border-top-color: var(--fill-color);\n",
              "    }\n",
              "    30% {\n",
              "      border-color: transparent;\n",
              "      border-left-color: var(--fill-color);\n",
              "      border-top-color: var(--fill-color);\n",
              "      border-right-color: var(--fill-color);\n",
              "    }\n",
              "    40% {\n",
              "      border-color: transparent;\n",
              "      border-right-color: var(--fill-color);\n",
              "      border-top-color: var(--fill-color);\n",
              "    }\n",
              "    60% {\n",
              "      border-color: transparent;\n",
              "      border-right-color: var(--fill-color);\n",
              "    }\n",
              "    80% {\n",
              "      border-color: transparent;\n",
              "      border-right-color: var(--fill-color);\n",
              "      border-bottom-color: var(--fill-color);\n",
              "    }\n",
              "    90% {\n",
              "      border-color: transparent;\n",
              "      border-bottom-color: var(--fill-color);\n",
              "    }\n",
              "  }\n",
              "</style>\n",
              "\n",
              "  <script>\n",
              "    async function quickchart(key) {\n",
              "      const quickchartButtonEl =\n",
              "        document.querySelector('#' + key + ' button');\n",
              "      quickchartButtonEl.disabled = true;  // To prevent multiple clicks.\n",
              "      quickchartButtonEl.classList.add('colab-df-spinner');\n",
              "      try {\n",
              "        const charts = await google.colab.kernel.invokeFunction(\n",
              "            'suggestCharts', [key], {});\n",
              "      } catch (error) {\n",
              "        console.error('Error during call to suggestCharts:', error);\n",
              "      }\n",
              "      quickchartButtonEl.classList.remove('colab-df-spinner');\n",
              "      quickchartButtonEl.classList.add('colab-df-quickchart-complete');\n",
              "    }\n",
              "    (() => {\n",
              "      let quickchartButtonEl =\n",
              "        document.querySelector('#df-14270098-5072-47aa-ba52-0092eccfe227 button');\n",
              "      quickchartButtonEl.style.display =\n",
              "        google.colab.kernel.accessAllowed ? 'block' : 'none';\n",
              "    })();\n",
              "  </script>\n",
              "</div>\n",
              "\n",
              "  <div id=\"id_c3e8e31c-6805-448a-92b3-b8202953da1f\">\n",
              "    <style>\n",
              "      .colab-df-generate {\n",
              "        background-color: #E8F0FE;\n",
              "        border: none;\n",
              "        border-radius: 50%;\n",
              "        cursor: pointer;\n",
              "        display: none;\n",
              "        fill: #1967D2;\n",
              "        height: 32px;\n",
              "        padding: 0 0 0 0;\n",
              "        width: 32px;\n",
              "      }\n",
              "\n",
              "      .colab-df-generate:hover {\n",
              "        background-color: #E2EBFA;\n",
              "        box-shadow: 0px 1px 2px rgba(60, 64, 67, 0.3), 0px 1px 3px 1px rgba(60, 64, 67, 0.15);\n",
              "        fill: #174EA6;\n",
              "      }\n",
              "\n",
              "      [theme=dark] .colab-df-generate {\n",
              "        background-color: #3B4455;\n",
              "        fill: #D2E3FC;\n",
              "      }\n",
              "\n",
              "      [theme=dark] .colab-df-generate:hover {\n",
              "        background-color: #434B5C;\n",
              "        box-shadow: 0px 1px 3px 1px rgba(0, 0, 0, 0.15);\n",
              "        filter: drop-shadow(0px 1px 2px rgba(0, 0, 0, 0.3));\n",
              "        fill: #FFFFFF;\n",
              "      }\n",
              "    </style>\n",
              "    <button class=\"colab-df-generate\" onclick=\"generateWithVariable('df')\"\n",
              "            title=\"Generate code using this dataframe.\"\n",
              "            style=\"display:none;\">\n",
              "\n",
              "  <svg xmlns=\"http://www.w3.org/2000/svg\" height=\"24px\"viewBox=\"0 0 24 24\"\n",
              "       width=\"24px\">\n",
              "    <path d=\"M7,19H8.4L18.45,9,17,7.55,7,17.6ZM5,21V16.75L18.45,3.32a2,2,0,0,1,2.83,0l1.4,1.43a1.91,1.91,0,0,1,.58,1.4,1.91,1.91,0,0,1-.58,1.4L9.25,21ZM18.45,9,17,7.55Zm-12,3A5.31,5.31,0,0,0,4.9,8.1,5.31,5.31,0,0,0,1,6.5,5.31,5.31,0,0,0,4.9,4.9,5.31,5.31,0,0,0,6.5,1,5.31,5.31,0,0,0,8.1,4.9,5.31,5.31,0,0,0,12,6.5,5.46,5.46,0,0,0,6.5,12Z\"/>\n",
              "  </svg>\n",
              "    </button>\n",
              "    <script>\n",
              "      (() => {\n",
              "      const buttonEl =\n",
              "        document.querySelector('#id_c3e8e31c-6805-448a-92b3-b8202953da1f button.colab-df-generate');\n",
              "      buttonEl.style.display =\n",
              "        google.colab.kernel.accessAllowed ? 'block' : 'none';\n",
              "\n",
              "      buttonEl.onclick = () => {\n",
              "        google.colab.notebook.generateWithVariable('df');\n",
              "      }\n",
              "      })();\n",
              "    </script>\n",
              "  </div>\n",
              "\n",
              "    </div>\n",
              "  </div>\n"
            ]
          },
          "metadata": {},
          "execution_count": 183
        }
      ],
      "source": [
        "df = pd.read_csv(\"/content/Data-cleaning-for-beginners-using-pandas.csv\")\n",
        "df"
      ]
    },
    {
      "cell_type": "code",
      "execution_count": 184,
      "id": "e69314dd",
      "metadata": {
        "colab": {
          "base_uri": "https://localhost:8080/"
        },
        "id": "e69314dd",
        "outputId": "6024574f-1313-4955-bff6-b82155c7848c"
      },
      "outputs": [
        {
          "output_type": "execute_result",
          "data": {
            "text/plain": [
              "(29, 7)"
            ]
          },
          "metadata": {},
          "execution_count": 184
        }
      ],
      "source": [
        "df.shape"
      ]
    },
    {
      "cell_type": "code",
      "execution_count": 185,
      "id": "7a9b62cc",
      "metadata": {
        "colab": {
          "base_uri": "https://localhost:8080/"
        },
        "id": "7a9b62cc",
        "outputId": "b1fe31ec-81ad-4b07-8508-93475750fe9b"
      },
      "outputs": [
        {
          "output_type": "stream",
          "name": "stdout",
          "text": [
            "<class 'pandas.core.frame.DataFrame'>\n",
            "RangeIndex: 29 entries, 0 to 28\n",
            "Data columns (total 7 columns):\n",
            " #   Column       Non-Null Count  Dtype  \n",
            "---  ------       --------------  -----  \n",
            " 0   Index        29 non-null     int64  \n",
            " 1   Age          22 non-null     float64\n",
            " 2   Salary       29 non-null     object \n",
            " 3   Rating       28 non-null     float64\n",
            " 4   Location     29 non-null     object \n",
            " 5   Established  29 non-null     int64  \n",
            " 6   EasyApply    29 non-null     object \n",
            "dtypes: float64(2), int64(2), object(3)\n",
            "memory usage: 1.7+ KB\n"
          ]
        }
      ],
      "source": [
        "df.info()"
      ]
    },
    {
      "cell_type": "markdown",
      "id": "3c7ab982",
      "metadata": {
        "id": "3c7ab982"
      },
      "source": [
        "Question 1: Missing values : Are there any missing values in the dataset, and if so, how should they be handled for each indicator?"
      ]
    },
    {
      "cell_type": "code",
      "execution_count": 186,
      "id": "5980444d",
      "metadata": {
        "colab": {
          "base_uri": "https://localhost:8080/"
        },
        "id": "5980444d",
        "outputId": "f51edfa3-5614-4021-8d37-13de0e4009f1"
      },
      "outputs": [
        {
          "output_type": "execute_result",
          "data": {
            "text/plain": [
              "Index          0\n",
              "Age            7\n",
              "Salary         0\n",
              "Rating         1\n",
              "Location       0\n",
              "Established    0\n",
              "EasyApply      0\n",
              "dtype: int64"
            ]
          },
          "metadata": {},
          "execution_count": 186
        }
      ],
      "source": [
        "df.isnull().sum()"
      ]
    },
    {
      "cell_type": "code",
      "source": [
        "median_age = df['Age'].median()\n",
        "df['Age'].fillna(median_age, inplace=True)\n",
        "df['Age']"
      ],
      "metadata": {
        "colab": {
          "base_uri": "https://localhost:8080/"
        },
        "id": "tQT-LpioMeZ7",
        "outputId": "39ff4c3a-da81-426b-dbb3-debdcb91e751"
      },
      "id": "tQT-LpioMeZ7",
      "execution_count": 187,
      "outputs": [
        {
          "output_type": "execute_result",
          "data": {
            "text/plain": [
              "0     44.0\n",
              "1     66.0\n",
              "2     39.5\n",
              "3     64.0\n",
              "4     25.0\n",
              "5     44.0\n",
              "6     21.0\n",
              "7     44.0\n",
              "8     35.0\n",
              "9     22.0\n",
              "10    55.0\n",
              "11    44.0\n",
              "12    39.5\n",
              "13    25.0\n",
              "14    66.0\n",
              "15    44.0\n",
              "16    19.0\n",
              "17    39.5\n",
              "18    35.0\n",
              "19    32.0\n",
              "20    39.5\n",
              "21    35.0\n",
              "22    19.0\n",
              "23    39.5\n",
              "24    13.0\n",
              "25    55.0\n",
              "26    39.5\n",
              "27    52.0\n",
              "28    39.5\n",
              "Name: Age, dtype: float64"
            ]
          },
          "metadata": {},
          "execution_count": 187
        }
      ]
    },
    {
      "cell_type": "code",
      "source": [
        "mode_rating = df['Rating'].mode()[0]\n",
        "df['Rating'].fillna(mode_rating, inplace=True)\n",
        "df['Rating']"
      ],
      "metadata": {
        "colab": {
          "base_uri": "https://localhost:8080/"
        },
        "id": "WzlXLH16NYnA",
        "outputId": "7557c407-c0a7-41aa-d9c0-40148fb23448"
      },
      "id": "WzlXLH16NYnA",
      "execution_count": 188,
      "outputs": [
        {
          "output_type": "execute_result",
          "data": {
            "text/plain": [
              "0     5.4\n",
              "1     3.5\n",
              "2    -1.0\n",
              "3     4.4\n",
              "4     6.4\n",
              "5     1.4\n",
              "6     0.0\n",
              "7    -1.0\n",
              "8     5.4\n",
              "9     7.7\n",
              "10    5.4\n",
              "11    6.7\n",
              "12    0.0\n",
              "13   -1.0\n",
              "14    4.0\n",
              "15    3.0\n",
              "16    4.5\n",
              "17    5.3\n",
              "18    6.7\n",
              "19    3.3\n",
              "20    5.7\n",
              "21    5.0\n",
              "22    7.8\n",
              "23    2.4\n",
              "24   -1.0\n",
              "25    0.0\n",
              "26   -1.0\n",
              "27    5.4\n",
              "28    3.4\n",
              "Name: Rating, dtype: float64"
            ]
          },
          "metadata": {},
          "execution_count": 188
        }
      ]
    },
    {
      "cell_type": "code",
      "source": [
        "\n",
        "df.isnull().sum()"
      ],
      "metadata": {
        "colab": {
          "base_uri": "https://localhost:8080/"
        },
        "id": "WJ0HVqEUNau8",
        "outputId": "79667455-ef73-4cd5-a089-a2335a89777a"
      },
      "id": "WJ0HVqEUNau8",
      "execution_count": 189,
      "outputs": [
        {
          "output_type": "execute_result",
          "data": {
            "text/plain": [
              "Index          0\n",
              "Age            0\n",
              "Salary         0\n",
              "Rating         0\n",
              "Location       0\n",
              "Established    0\n",
              "EasyApply      0\n",
              "dtype: int64"
            ]
          },
          "metadata": {},
          "execution_count": 189
        }
      ]
    },
    {
      "cell_type": "code",
      "source": [
        "\n",
        "df"
      ],
      "metadata": {
        "colab": {
          "base_uri": "https://localhost:8080/",
          "height": 958
        },
        "id": "XHd_KqBIMj-j",
        "outputId": "46a9e086-94fb-47ec-b86f-1d07fc4aac67"
      },
      "id": "XHd_KqBIMj-j",
      "execution_count": 137,
      "outputs": [
        {
          "output_type": "execute_result",
          "data": {
            "text/plain": [
              "    Index   Age      Salary  Rating       Location  Established EasyApply\n",
              "0       0  44.0   $44k-$99k     5.4       India,In         1999      TRUE\n",
              "1       1  66.0   $55k-$66k     3.5    New York,Ny         2002      TRUE\n",
              "2       2  39.5   $77k-$89k    -1.0    New York,Ny           -1        -1\n",
              "3       3  64.0   $44k-$99k     4.4       India In         1988        -1\n",
              "4       4  25.0   $44k-$99k     6.4  Australia Aus         2002        -1\n",
              "5       5  44.0   $77k-$89k     1.4       India,In         1999      TRUE\n",
              "6       6  21.0   $44k-$99k     0.0    New York,Ny           -1        -1\n",
              "7       7  44.0   $44k-$99k    -1.0  Australia Aus           -1        -1\n",
              "8       8  35.0   $44k-$99k     5.4    New York,Ny           -1        -1\n",
              "9       9  22.0   $44k-$99k     7.7       India,In           -1      TRUE\n",
              "10     10  55.0   $10k-$49k     5.4       India,In         2008      TRUE\n",
              "11     11  44.0   $10k-$49k     6.7       India,In         2009        -1\n",
              "12     12  39.5   $44k-$99k     0.0       India,In         1999        -1\n",
              "13     13  25.0   $44k-$99k    -1.0  Australia Aus         2019      TRUE\n",
              "14     14  66.0   $44k-$99k     4.0  Australia Aus         2020      TRUE\n",
              "15     15  44.0  $88k-$101k     3.0  Australia Aus         1999        -1\n",
              "16     16  19.0   $19k-$40k     4.5       India,In         1984        -1\n",
              "17     17  39.5   $44k-$99k     5.3    New York,Ny         1943      TRUE\n",
              "18     18  35.0   $44k-$99k     6.7    New York,Ny         1954      TRUE\n",
              "19     19  32.0   $44k-$99k     3.3    New York,Ny         1955      TRUE\n",
              "20     20  39.5   $44k-$99k     5.7    New York,Ny         1944      TRUE\n",
              "21     21  35.0   $44k-$99k     5.0    New York,Ny         1946        -1\n",
              "22     22  19.0   $55k-$66k     7.8    New York,Ny         1988      TRUE\n",
              "23     23  39.5   $44k-$99k     2.4    New York,Ny         1999      TRUE\n",
              "24     24  13.0   $44k-$99k    -1.0    New York,Ny         1987        -1\n",
              "25     25  55.0   $44k-$99k     0.0  Australia Aus         1980      TRUE\n",
              "26     26  39.5   $55k-$66k    -1.0       India,In         1934      TRUE\n",
              "27     27  52.0   $44k-$99k     5.4       India,In         1935        -1\n",
              "28     28  39.5   $39k-$88k     3.4  Australia Aus         1932        -1"
            ],
            "text/html": [
              "\n",
              "  <div id=\"df-20bbf412-a567-4c77-97ac-a5af59e6465a\" class=\"colab-df-container\">\n",
              "    <div>\n",
              "<style scoped>\n",
              "    .dataframe tbody tr th:only-of-type {\n",
              "        vertical-align: middle;\n",
              "    }\n",
              "\n",
              "    .dataframe tbody tr th {\n",
              "        vertical-align: top;\n",
              "    }\n",
              "\n",
              "    .dataframe thead th {\n",
              "        text-align: right;\n",
              "    }\n",
              "</style>\n",
              "<table border=\"1\" class=\"dataframe\">\n",
              "  <thead>\n",
              "    <tr style=\"text-align: right;\">\n",
              "      <th></th>\n",
              "      <th>Index</th>\n",
              "      <th>Age</th>\n",
              "      <th>Salary</th>\n",
              "      <th>Rating</th>\n",
              "      <th>Location</th>\n",
              "      <th>Established</th>\n",
              "      <th>EasyApply</th>\n",
              "    </tr>\n",
              "  </thead>\n",
              "  <tbody>\n",
              "    <tr>\n",
              "      <th>0</th>\n",
              "      <td>0</td>\n",
              "      <td>44.0</td>\n",
              "      <td>$44k-$99k</td>\n",
              "      <td>5.4</td>\n",
              "      <td>India,In</td>\n",
              "      <td>1999</td>\n",
              "      <td>TRUE</td>\n",
              "    </tr>\n",
              "    <tr>\n",
              "      <th>1</th>\n",
              "      <td>1</td>\n",
              "      <td>66.0</td>\n",
              "      <td>$55k-$66k</td>\n",
              "      <td>3.5</td>\n",
              "      <td>New York,Ny</td>\n",
              "      <td>2002</td>\n",
              "      <td>TRUE</td>\n",
              "    </tr>\n",
              "    <tr>\n",
              "      <th>2</th>\n",
              "      <td>2</td>\n",
              "      <td>39.5</td>\n",
              "      <td>$77k-$89k</td>\n",
              "      <td>-1.0</td>\n",
              "      <td>New York,Ny</td>\n",
              "      <td>-1</td>\n",
              "      <td>-1</td>\n",
              "    </tr>\n",
              "    <tr>\n",
              "      <th>3</th>\n",
              "      <td>3</td>\n",
              "      <td>64.0</td>\n",
              "      <td>$44k-$99k</td>\n",
              "      <td>4.4</td>\n",
              "      <td>India In</td>\n",
              "      <td>1988</td>\n",
              "      <td>-1</td>\n",
              "    </tr>\n",
              "    <tr>\n",
              "      <th>4</th>\n",
              "      <td>4</td>\n",
              "      <td>25.0</td>\n",
              "      <td>$44k-$99k</td>\n",
              "      <td>6.4</td>\n",
              "      <td>Australia Aus</td>\n",
              "      <td>2002</td>\n",
              "      <td>-1</td>\n",
              "    </tr>\n",
              "    <tr>\n",
              "      <th>5</th>\n",
              "      <td>5</td>\n",
              "      <td>44.0</td>\n",
              "      <td>$77k-$89k</td>\n",
              "      <td>1.4</td>\n",
              "      <td>India,In</td>\n",
              "      <td>1999</td>\n",
              "      <td>TRUE</td>\n",
              "    </tr>\n",
              "    <tr>\n",
              "      <th>6</th>\n",
              "      <td>6</td>\n",
              "      <td>21.0</td>\n",
              "      <td>$44k-$99k</td>\n",
              "      <td>0.0</td>\n",
              "      <td>New York,Ny</td>\n",
              "      <td>-1</td>\n",
              "      <td>-1</td>\n",
              "    </tr>\n",
              "    <tr>\n",
              "      <th>7</th>\n",
              "      <td>7</td>\n",
              "      <td>44.0</td>\n",
              "      <td>$44k-$99k</td>\n",
              "      <td>-1.0</td>\n",
              "      <td>Australia Aus</td>\n",
              "      <td>-1</td>\n",
              "      <td>-1</td>\n",
              "    </tr>\n",
              "    <tr>\n",
              "      <th>8</th>\n",
              "      <td>8</td>\n",
              "      <td>35.0</td>\n",
              "      <td>$44k-$99k</td>\n",
              "      <td>5.4</td>\n",
              "      <td>New York,Ny</td>\n",
              "      <td>-1</td>\n",
              "      <td>-1</td>\n",
              "    </tr>\n",
              "    <tr>\n",
              "      <th>9</th>\n",
              "      <td>9</td>\n",
              "      <td>22.0</td>\n",
              "      <td>$44k-$99k</td>\n",
              "      <td>7.7</td>\n",
              "      <td>India,In</td>\n",
              "      <td>-1</td>\n",
              "      <td>TRUE</td>\n",
              "    </tr>\n",
              "    <tr>\n",
              "      <th>10</th>\n",
              "      <td>10</td>\n",
              "      <td>55.0</td>\n",
              "      <td>$10k-$49k</td>\n",
              "      <td>5.4</td>\n",
              "      <td>India,In</td>\n",
              "      <td>2008</td>\n",
              "      <td>TRUE</td>\n",
              "    </tr>\n",
              "    <tr>\n",
              "      <th>11</th>\n",
              "      <td>11</td>\n",
              "      <td>44.0</td>\n",
              "      <td>$10k-$49k</td>\n",
              "      <td>6.7</td>\n",
              "      <td>India,In</td>\n",
              "      <td>2009</td>\n",
              "      <td>-1</td>\n",
              "    </tr>\n",
              "    <tr>\n",
              "      <th>12</th>\n",
              "      <td>12</td>\n",
              "      <td>39.5</td>\n",
              "      <td>$44k-$99k</td>\n",
              "      <td>0.0</td>\n",
              "      <td>India,In</td>\n",
              "      <td>1999</td>\n",
              "      <td>-1</td>\n",
              "    </tr>\n",
              "    <tr>\n",
              "      <th>13</th>\n",
              "      <td>13</td>\n",
              "      <td>25.0</td>\n",
              "      <td>$44k-$99k</td>\n",
              "      <td>-1.0</td>\n",
              "      <td>Australia Aus</td>\n",
              "      <td>2019</td>\n",
              "      <td>TRUE</td>\n",
              "    </tr>\n",
              "    <tr>\n",
              "      <th>14</th>\n",
              "      <td>14</td>\n",
              "      <td>66.0</td>\n",
              "      <td>$44k-$99k</td>\n",
              "      <td>4.0</td>\n",
              "      <td>Australia Aus</td>\n",
              "      <td>2020</td>\n",
              "      <td>TRUE</td>\n",
              "    </tr>\n",
              "    <tr>\n",
              "      <th>15</th>\n",
              "      <td>15</td>\n",
              "      <td>44.0</td>\n",
              "      <td>$88k-$101k</td>\n",
              "      <td>3.0</td>\n",
              "      <td>Australia Aus</td>\n",
              "      <td>1999</td>\n",
              "      <td>-1</td>\n",
              "    </tr>\n",
              "    <tr>\n",
              "      <th>16</th>\n",
              "      <td>16</td>\n",
              "      <td>19.0</td>\n",
              "      <td>$19k-$40k</td>\n",
              "      <td>4.5</td>\n",
              "      <td>India,In</td>\n",
              "      <td>1984</td>\n",
              "      <td>-1</td>\n",
              "    </tr>\n",
              "    <tr>\n",
              "      <th>17</th>\n",
              "      <td>17</td>\n",
              "      <td>39.5</td>\n",
              "      <td>$44k-$99k</td>\n",
              "      <td>5.3</td>\n",
              "      <td>New York,Ny</td>\n",
              "      <td>1943</td>\n",
              "      <td>TRUE</td>\n",
              "    </tr>\n",
              "    <tr>\n",
              "      <th>18</th>\n",
              "      <td>18</td>\n",
              "      <td>35.0</td>\n",
              "      <td>$44k-$99k</td>\n",
              "      <td>6.7</td>\n",
              "      <td>New York,Ny</td>\n",
              "      <td>1954</td>\n",
              "      <td>TRUE</td>\n",
              "    </tr>\n",
              "    <tr>\n",
              "      <th>19</th>\n",
              "      <td>19</td>\n",
              "      <td>32.0</td>\n",
              "      <td>$44k-$99k</td>\n",
              "      <td>3.3</td>\n",
              "      <td>New York,Ny</td>\n",
              "      <td>1955</td>\n",
              "      <td>TRUE</td>\n",
              "    </tr>\n",
              "    <tr>\n",
              "      <th>20</th>\n",
              "      <td>20</td>\n",
              "      <td>39.5</td>\n",
              "      <td>$44k-$99k</td>\n",
              "      <td>5.7</td>\n",
              "      <td>New York,Ny</td>\n",
              "      <td>1944</td>\n",
              "      <td>TRUE</td>\n",
              "    </tr>\n",
              "    <tr>\n",
              "      <th>21</th>\n",
              "      <td>21</td>\n",
              "      <td>35.0</td>\n",
              "      <td>$44k-$99k</td>\n",
              "      <td>5.0</td>\n",
              "      <td>New York,Ny</td>\n",
              "      <td>1946</td>\n",
              "      <td>-1</td>\n",
              "    </tr>\n",
              "    <tr>\n",
              "      <th>22</th>\n",
              "      <td>22</td>\n",
              "      <td>19.0</td>\n",
              "      <td>$55k-$66k</td>\n",
              "      <td>7.8</td>\n",
              "      <td>New York,Ny</td>\n",
              "      <td>1988</td>\n",
              "      <td>TRUE</td>\n",
              "    </tr>\n",
              "    <tr>\n",
              "      <th>23</th>\n",
              "      <td>23</td>\n",
              "      <td>39.5</td>\n",
              "      <td>$44k-$99k</td>\n",
              "      <td>2.4</td>\n",
              "      <td>New York,Ny</td>\n",
              "      <td>1999</td>\n",
              "      <td>TRUE</td>\n",
              "    </tr>\n",
              "    <tr>\n",
              "      <th>24</th>\n",
              "      <td>24</td>\n",
              "      <td>13.0</td>\n",
              "      <td>$44k-$99k</td>\n",
              "      <td>-1.0</td>\n",
              "      <td>New York,Ny</td>\n",
              "      <td>1987</td>\n",
              "      <td>-1</td>\n",
              "    </tr>\n",
              "    <tr>\n",
              "      <th>25</th>\n",
              "      <td>25</td>\n",
              "      <td>55.0</td>\n",
              "      <td>$44k-$99k</td>\n",
              "      <td>0.0</td>\n",
              "      <td>Australia Aus</td>\n",
              "      <td>1980</td>\n",
              "      <td>TRUE</td>\n",
              "    </tr>\n",
              "    <tr>\n",
              "      <th>26</th>\n",
              "      <td>26</td>\n",
              "      <td>39.5</td>\n",
              "      <td>$55k-$66k</td>\n",
              "      <td>-1.0</td>\n",
              "      <td>India,In</td>\n",
              "      <td>1934</td>\n",
              "      <td>TRUE</td>\n",
              "    </tr>\n",
              "    <tr>\n",
              "      <th>27</th>\n",
              "      <td>27</td>\n",
              "      <td>52.0</td>\n",
              "      <td>$44k-$99k</td>\n",
              "      <td>5.4</td>\n",
              "      <td>India,In</td>\n",
              "      <td>1935</td>\n",
              "      <td>-1</td>\n",
              "    </tr>\n",
              "    <tr>\n",
              "      <th>28</th>\n",
              "      <td>28</td>\n",
              "      <td>39.5</td>\n",
              "      <td>$39k-$88k</td>\n",
              "      <td>3.4</td>\n",
              "      <td>Australia Aus</td>\n",
              "      <td>1932</td>\n",
              "      <td>-1</td>\n",
              "    </tr>\n",
              "  </tbody>\n",
              "</table>\n",
              "</div>\n",
              "    <div class=\"colab-df-buttons\">\n",
              "\n",
              "  <div class=\"colab-df-container\">\n",
              "    <button class=\"colab-df-convert\" onclick=\"convertToInteractive('df-20bbf412-a567-4c77-97ac-a5af59e6465a')\"\n",
              "            title=\"Convert this dataframe to an interactive table.\"\n",
              "            style=\"display:none;\">\n",
              "\n",
              "  <svg xmlns=\"http://www.w3.org/2000/svg\" height=\"24px\" viewBox=\"0 -960 960 960\">\n",
              "    <path d=\"M120-120v-720h720v720H120Zm60-500h600v-160H180v160Zm220 220h160v-160H400v160Zm0 220h160v-160H400v160ZM180-400h160v-160H180v160Zm440 0h160v-160H620v160ZM180-180h160v-160H180v160Zm440 0h160v-160H620v160Z\"/>\n",
              "  </svg>\n",
              "    </button>\n",
              "\n",
              "  <style>\n",
              "    .colab-df-container {\n",
              "      display:flex;\n",
              "      gap: 12px;\n",
              "    }\n",
              "\n",
              "    .colab-df-convert {\n",
              "      background-color: #E8F0FE;\n",
              "      border: none;\n",
              "      border-radius: 50%;\n",
              "      cursor: pointer;\n",
              "      display: none;\n",
              "      fill: #1967D2;\n",
              "      height: 32px;\n",
              "      padding: 0 0 0 0;\n",
              "      width: 32px;\n",
              "    }\n",
              "\n",
              "    .colab-df-convert:hover {\n",
              "      background-color: #E2EBFA;\n",
              "      box-shadow: 0px 1px 2px rgba(60, 64, 67, 0.3), 0px 1px 3px 1px rgba(60, 64, 67, 0.15);\n",
              "      fill: #174EA6;\n",
              "    }\n",
              "\n",
              "    .colab-df-buttons div {\n",
              "      margin-bottom: 4px;\n",
              "    }\n",
              "\n",
              "    [theme=dark] .colab-df-convert {\n",
              "      background-color: #3B4455;\n",
              "      fill: #D2E3FC;\n",
              "    }\n",
              "\n",
              "    [theme=dark] .colab-df-convert:hover {\n",
              "      background-color: #434B5C;\n",
              "      box-shadow: 0px 1px 3px 1px rgba(0, 0, 0, 0.15);\n",
              "      filter: drop-shadow(0px 1px 2px rgba(0, 0, 0, 0.3));\n",
              "      fill: #FFFFFF;\n",
              "    }\n",
              "  </style>\n",
              "\n",
              "    <script>\n",
              "      const buttonEl =\n",
              "        document.querySelector('#df-20bbf412-a567-4c77-97ac-a5af59e6465a button.colab-df-convert');\n",
              "      buttonEl.style.display =\n",
              "        google.colab.kernel.accessAllowed ? 'block' : 'none';\n",
              "\n",
              "      async function convertToInteractive(key) {\n",
              "        const element = document.querySelector('#df-20bbf412-a567-4c77-97ac-a5af59e6465a');\n",
              "        const dataTable =\n",
              "          await google.colab.kernel.invokeFunction('convertToInteractive',\n",
              "                                                    [key], {});\n",
              "        if (!dataTable) return;\n",
              "\n",
              "        const docLinkHtml = 'Like what you see? Visit the ' +\n",
              "          '<a target=\"_blank\" href=https://colab.research.google.com/notebooks/data_table.ipynb>data table notebook</a>'\n",
              "          + ' to learn more about interactive tables.';\n",
              "        element.innerHTML = '';\n",
              "        dataTable['output_type'] = 'display_data';\n",
              "        await google.colab.output.renderOutput(dataTable, element);\n",
              "        const docLink = document.createElement('div');\n",
              "        docLink.innerHTML = docLinkHtml;\n",
              "        element.appendChild(docLink);\n",
              "      }\n",
              "    </script>\n",
              "  </div>\n",
              "\n",
              "\n",
              "<div id=\"df-eebd25d1-1666-460e-a0bb-f4f7be189411\">\n",
              "  <button class=\"colab-df-quickchart\" onclick=\"quickchart('df-eebd25d1-1666-460e-a0bb-f4f7be189411')\"\n",
              "            title=\"Suggest charts\"\n",
              "            style=\"display:none;\">\n",
              "\n",
              "<svg xmlns=\"http://www.w3.org/2000/svg\" height=\"24px\"viewBox=\"0 0 24 24\"\n",
              "     width=\"24px\">\n",
              "    <g>\n",
              "        <path d=\"M19 3H5c-1.1 0-2 .9-2 2v14c0 1.1.9 2 2 2h14c1.1 0 2-.9 2-2V5c0-1.1-.9-2-2-2zM9 17H7v-7h2v7zm4 0h-2V7h2v10zm4 0h-2v-4h2v4z\"/>\n",
              "    </g>\n",
              "</svg>\n",
              "  </button>\n",
              "\n",
              "<style>\n",
              "  .colab-df-quickchart {\n",
              "      --bg-color: #E8F0FE;\n",
              "      --fill-color: #1967D2;\n",
              "      --hover-bg-color: #E2EBFA;\n",
              "      --hover-fill-color: #174EA6;\n",
              "      --disabled-fill-color: #AAA;\n",
              "      --disabled-bg-color: #DDD;\n",
              "  }\n",
              "\n",
              "  [theme=dark] .colab-df-quickchart {\n",
              "      --bg-color: #3B4455;\n",
              "      --fill-color: #D2E3FC;\n",
              "      --hover-bg-color: #434B5C;\n",
              "      --hover-fill-color: #FFFFFF;\n",
              "      --disabled-bg-color: #3B4455;\n",
              "      --disabled-fill-color: #666;\n",
              "  }\n",
              "\n",
              "  .colab-df-quickchart {\n",
              "    background-color: var(--bg-color);\n",
              "    border: none;\n",
              "    border-radius: 50%;\n",
              "    cursor: pointer;\n",
              "    display: none;\n",
              "    fill: var(--fill-color);\n",
              "    height: 32px;\n",
              "    padding: 0;\n",
              "    width: 32px;\n",
              "  }\n",
              "\n",
              "  .colab-df-quickchart:hover {\n",
              "    background-color: var(--hover-bg-color);\n",
              "    box-shadow: 0 1px 2px rgba(60, 64, 67, 0.3), 0 1px 3px 1px rgba(60, 64, 67, 0.15);\n",
              "    fill: var(--button-hover-fill-color);\n",
              "  }\n",
              "\n",
              "  .colab-df-quickchart-complete:disabled,\n",
              "  .colab-df-quickchart-complete:disabled:hover {\n",
              "    background-color: var(--disabled-bg-color);\n",
              "    fill: var(--disabled-fill-color);\n",
              "    box-shadow: none;\n",
              "  }\n",
              "\n",
              "  .colab-df-spinner {\n",
              "    border: 2px solid var(--fill-color);\n",
              "    border-color: transparent;\n",
              "    border-bottom-color: var(--fill-color);\n",
              "    animation:\n",
              "      spin 1s steps(1) infinite;\n",
              "  }\n",
              "\n",
              "  @keyframes spin {\n",
              "    0% {\n",
              "      border-color: transparent;\n",
              "      border-bottom-color: var(--fill-color);\n",
              "      border-left-color: var(--fill-color);\n",
              "    }\n",
              "    20% {\n",
              "      border-color: transparent;\n",
              "      border-left-color: var(--fill-color);\n",
              "      border-top-color: var(--fill-color);\n",
              "    }\n",
              "    30% {\n",
              "      border-color: transparent;\n",
              "      border-left-color: var(--fill-color);\n",
              "      border-top-color: var(--fill-color);\n",
              "      border-right-color: var(--fill-color);\n",
              "    }\n",
              "    40% {\n",
              "      border-color: transparent;\n",
              "      border-right-color: var(--fill-color);\n",
              "      border-top-color: var(--fill-color);\n",
              "    }\n",
              "    60% {\n",
              "      border-color: transparent;\n",
              "      border-right-color: var(--fill-color);\n",
              "    }\n",
              "    80% {\n",
              "      border-color: transparent;\n",
              "      border-right-color: var(--fill-color);\n",
              "      border-bottom-color: var(--fill-color);\n",
              "    }\n",
              "    90% {\n",
              "      border-color: transparent;\n",
              "      border-bottom-color: var(--fill-color);\n",
              "    }\n",
              "  }\n",
              "</style>\n",
              "\n",
              "  <script>\n",
              "    async function quickchart(key) {\n",
              "      const quickchartButtonEl =\n",
              "        document.querySelector('#' + key + ' button');\n",
              "      quickchartButtonEl.disabled = true;  // To prevent multiple clicks.\n",
              "      quickchartButtonEl.classList.add('colab-df-spinner');\n",
              "      try {\n",
              "        const charts = await google.colab.kernel.invokeFunction(\n",
              "            'suggestCharts', [key], {});\n",
              "      } catch (error) {\n",
              "        console.error('Error during call to suggestCharts:', error);\n",
              "      }\n",
              "      quickchartButtonEl.classList.remove('colab-df-spinner');\n",
              "      quickchartButtonEl.classList.add('colab-df-quickchart-complete');\n",
              "    }\n",
              "    (() => {\n",
              "      let quickchartButtonEl =\n",
              "        document.querySelector('#df-eebd25d1-1666-460e-a0bb-f4f7be189411 button');\n",
              "      quickchartButtonEl.style.display =\n",
              "        google.colab.kernel.accessAllowed ? 'block' : 'none';\n",
              "    })();\n",
              "  </script>\n",
              "</div>\n",
              "\n",
              "  <div id=\"id_6bce9b23-2a0f-4337-8022-3666cbeea7d1\">\n",
              "    <style>\n",
              "      .colab-df-generate {\n",
              "        background-color: #E8F0FE;\n",
              "        border: none;\n",
              "        border-radius: 50%;\n",
              "        cursor: pointer;\n",
              "        display: none;\n",
              "        fill: #1967D2;\n",
              "        height: 32px;\n",
              "        padding: 0 0 0 0;\n",
              "        width: 32px;\n",
              "      }\n",
              "\n",
              "      .colab-df-generate:hover {\n",
              "        background-color: #E2EBFA;\n",
              "        box-shadow: 0px 1px 2px rgba(60, 64, 67, 0.3), 0px 1px 3px 1px rgba(60, 64, 67, 0.15);\n",
              "        fill: #174EA6;\n",
              "      }\n",
              "\n",
              "      [theme=dark] .colab-df-generate {\n",
              "        background-color: #3B4455;\n",
              "        fill: #D2E3FC;\n",
              "      }\n",
              "\n",
              "      [theme=dark] .colab-df-generate:hover {\n",
              "        background-color: #434B5C;\n",
              "        box-shadow: 0px 1px 3px 1px rgba(0, 0, 0, 0.15);\n",
              "        filter: drop-shadow(0px 1px 2px rgba(0, 0, 0, 0.3));\n",
              "        fill: #FFFFFF;\n",
              "      }\n",
              "    </style>\n",
              "    <button class=\"colab-df-generate\" onclick=\"generateWithVariable('df')\"\n",
              "            title=\"Generate code using this dataframe.\"\n",
              "            style=\"display:none;\">\n",
              "\n",
              "  <svg xmlns=\"http://www.w3.org/2000/svg\" height=\"24px\"viewBox=\"0 0 24 24\"\n",
              "       width=\"24px\">\n",
              "    <path d=\"M7,19H8.4L18.45,9,17,7.55,7,17.6ZM5,21V16.75L18.45,3.32a2,2,0,0,1,2.83,0l1.4,1.43a1.91,1.91,0,0,1,.58,1.4,1.91,1.91,0,0,1-.58,1.4L9.25,21ZM18.45,9,17,7.55Zm-12,3A5.31,5.31,0,0,0,4.9,8.1,5.31,5.31,0,0,0,1,6.5,5.31,5.31,0,0,0,4.9,4.9,5.31,5.31,0,0,0,6.5,1,5.31,5.31,0,0,0,8.1,4.9,5.31,5.31,0,0,0,12,6.5,5.46,5.46,0,0,0,6.5,12Z\"/>\n",
              "  </svg>\n",
              "    </button>\n",
              "    <script>\n",
              "      (() => {\n",
              "      const buttonEl =\n",
              "        document.querySelector('#id_6bce9b23-2a0f-4337-8022-3666cbeea7d1 button.colab-df-generate');\n",
              "      buttonEl.style.display =\n",
              "        google.colab.kernel.accessAllowed ? 'block' : 'none';\n",
              "\n",
              "      buttonEl.onclick = () => {\n",
              "        google.colab.notebook.generateWithVariable('df');\n",
              "      }\n",
              "      })();\n",
              "    </script>\n",
              "  </div>\n",
              "\n",
              "    </div>\n",
              "  </div>\n"
            ]
          },
          "metadata": {},
          "execution_count": 137
        }
      ]
    },
    {
      "cell_type": "markdown",
      "id": "e030e408",
      "metadata": {
        "id": "e030e408"
      },
      "source": [
        "Question 2: Data types : What are the data types of each indicator, and do they align with their expected types (e.g., numerical, categorical)?\n"
      ]
    },
    {
      "cell_type": "code",
      "execution_count": 138,
      "id": "e29033f6",
      "metadata": {
        "colab": {
          "base_uri": "https://localhost:8080/"
        },
        "id": "e29033f6",
        "outputId": "a952d4ad-3b87-41ad-b003-4d04448310d9"
      },
      "outputs": [
        {
          "output_type": "execute_result",
          "data": {
            "text/plain": [
              "Index(['Index', 'Age', 'Salary', 'Rating', 'Location', 'Established',\n",
              "       'EasyApply'],\n",
              "      dtype='object')"
            ]
          },
          "metadata": {},
          "execution_count": 138
        }
      ],
      "source": [
        "df.columns"
      ]
    },
    {
      "cell_type": "code",
      "execution_count": 190,
      "id": "04c25932",
      "metadata": {
        "colab": {
          "base_uri": "https://localhost:8080/"
        },
        "id": "04c25932",
        "outputId": "d09a6503-320d-485b-d14d-b15cc7b83d52"
      },
      "outputs": [
        {
          "output_type": "execute_result",
          "data": {
            "text/plain": [
              "Index            int64\n",
              "Age            float64\n",
              "Salary          object\n",
              "Rating         float64\n",
              "Location        object\n",
              "Established      int64\n",
              "EasyApply       object\n",
              "dtype: object"
            ]
          },
          "metadata": {},
          "execution_count": 190
        }
      ],
      "source": [
        "df.dtypes"
      ]
    },
    {
      "cell_type": "markdown",
      "id": "dde00950",
      "metadata": {
        "id": "dde00950"
      },
      "source": [
        "Question 3: Outliers: Identify potential outliers in numerical indicators (e.g., Age, Salary, Rating). Should outliers be removed or adjusted?"
      ]
    },
    {
      "cell_type": "code",
      "execution_count": 140,
      "id": "37753657",
      "metadata": {
        "id": "37753657"
      },
      "outputs": [],
      "source": [
        "numerical_columns = ['Age', 'Salary', 'Rating']"
      ]
    },
    {
      "cell_type": "code",
      "source": [
        "Q1 = df[numerical_columns].quantile(0.25)\n",
        "Q3 = df[numerical_columns].quantile(0.75)\n",
        "IQR = Q3 - Q1"
      ],
      "metadata": {
        "colab": {
          "base_uri": "https://localhost:8080/"
        },
        "id": "NHnNvTo0QuPi",
        "outputId": "6c919b54-41ed-4f82-a287-ff7e4646d2f2"
      },
      "id": "NHnNvTo0QuPi",
      "execution_count": 141,
      "outputs": [
        {
          "output_type": "stream",
          "name": "stderr",
          "text": [
            "<ipython-input-141-3631a9316b81>:1: FutureWarning: The default value of numeric_only in DataFrame.quantile is deprecated. In a future version, it will default to False. Select only valid columns or specify the value of numeric_only to silence this warning.\n",
            "  Q1 = df[numerical_columns].quantile(0.25)\n",
            "<ipython-input-141-3631a9316b81>:2: FutureWarning: The default value of numeric_only in DataFrame.quantile is deprecated. In a future version, it will default to False. Select only valid columns or specify the value of numeric_only to silence this warning.\n",
            "  Q3 = df[numerical_columns].quantile(0.75)\n"
          ]
        }
      ]
    },
    {
      "cell_type": "code",
      "source": [
        "outlier_threshold = 1.5"
      ],
      "metadata": {
        "id": "fYFfRbvPQ0wo"
      },
      "id": "fYFfRbvPQ0wo",
      "execution_count": 142,
      "outputs": []
    },
    {
      "cell_type": "code",
      "source": [
        "\n",
        "potential_outliers = ((df[numerical_columns] < (Q1 - outlier_threshold * IQR)) | (df[numerical_columns] > (Q3 + outlier_threshold * IQR)))"
      ],
      "metadata": {
        "colab": {
          "base_uri": "https://localhost:8080/"
        },
        "id": "xfq5VKfOQ5m-",
        "outputId": "eabc4c01-b8ad-49b8-e6d2-f8185da43f9b"
      },
      "id": "xfq5VKfOQ5m-",
      "execution_count": 143,
      "outputs": [
        {
          "output_type": "stream",
          "name": "stderr",
          "text": [
            "<ipython-input-143-61bb77ff103a>:1: FutureWarning: Automatic reindexing on DataFrame vs Series comparisons is deprecated and will raise ValueError in a future version. Do `left, right = left.align(right, axis=1, copy=False)` before e.g. `left == right`\n",
            "  potential_outliers = ((df[numerical_columns] < (Q1 - outlier_threshold * IQR)) | (df[numerical_columns] > (Q3 + outlier_threshold * IQR)))\n",
            "<ipython-input-143-61bb77ff103a>:1: FutureWarning: Automatic reindexing on DataFrame vs Series comparisons is deprecated and will raise ValueError in a future version. Do `left, right = left.align(right, axis=1, copy=False)` before e.g. `left == right`\n",
            "  potential_outliers = ((df[numerical_columns] < (Q1 - outlier_threshold * IQR)) | (df[numerical_columns] > (Q3 + outlier_threshold * IQR)))\n"
          ]
        }
      ]
    },
    {
      "cell_type": "code",
      "source": [
        "print(\"Rows with potential outliers:\")\n",
        "print(df[potential_outliers.any(axis=1)])"
      ],
      "metadata": {
        "colab": {
          "base_uri": "https://localhost:8080/"
        },
        "id": "PIXk8xErRDD3",
        "outputId": "adb1b75b-60e8-4a9b-ada5-1e9c866f0ef6"
      },
      "id": "PIXk8xErRDD3",
      "execution_count": 144,
      "outputs": [
        {
          "output_type": "stream",
          "name": "stdout",
          "text": [
            "Rows with potential outliers:\n",
            "    Index   Age     Salary  Rating       Location  Established EasyApply\n",
            "1       1  66.0  $55k-$66k     3.5    New York,Ny         2002      TRUE\n",
            "3       3  64.0  $44k-$99k     4.4       India In         1988        -1\n",
            "14     14  66.0  $44k-$99k     4.0  Australia Aus         2020      TRUE\n",
            "24     24  13.0  $44k-$99k    -1.0    New York,Ny         1987        -1\n"
          ]
        }
      ]
    },
    {
      "cell_type": "markdown",
      "id": "faaacc03",
      "metadata": {
        "id": "faaacc03"
      },
      "source": [
        "Question 4: salary formatting : Examine the format of the Salary column. Does it require any formatting or standardization for consistent analysis?\n"
      ]
    },
    {
      "cell_type": "code",
      "source": [
        "df['Salary'] = df['Salary'].str.replace('$',' ')\n",
        "df['Salary'] = df['Salary'].str.replace('k', '000')\n",
        "data['Salary'] = df['Salary']"
      ],
      "metadata": {
        "colab": {
          "base_uri": "https://localhost:8080/"
        },
        "id": "ZpCYyJ0xXSIZ",
        "outputId": "c9df88b8-7f16-4a9f-9728-1a4dadd61e8e"
      },
      "id": "ZpCYyJ0xXSIZ",
      "execution_count": 145,
      "outputs": [
        {
          "output_type": "stream",
          "name": "stderr",
          "text": [
            "<ipython-input-145-a2ecd9de659b>:1: FutureWarning: The default value of regex will change from True to False in a future version. In addition, single character regular expressions will *not* be treated as literal strings when regex=True.\n",
            "  df['Salary'] = df['Salary'].str.replace('$',' ')\n"
          ]
        }
      ]
    },
    {
      "cell_type": "code",
      "source": [
        "data['Salary']"
      ],
      "metadata": {
        "colab": {
          "base_uri": "https://localhost:8080/"
        },
        "id": "G8PBK7IRXUEt",
        "outputId": "66481acc-9c1f-4c8a-e68b-403bc65abd69"
      },
      "id": "G8PBK7IRXUEt",
      "execution_count": 146,
      "outputs": [
        {
          "output_type": "execute_result",
          "data": {
            "text/plain": [
              "0       44000- 99000\n",
              "1       55000- 66000\n",
              "2       77000- 89000\n",
              "3       44000- 99000\n",
              "4       44000- 99000\n",
              "5       77000- 89000\n",
              "6       44000- 99000\n",
              "7       44000- 99000\n",
              "8       44000- 99000\n",
              "9       44000- 99000\n",
              "10      10000- 49000\n",
              "11      10000- 49000\n",
              "12      44000- 99000\n",
              "13      44000- 99000\n",
              "14      44000- 99000\n",
              "15     88000- 101000\n",
              "16      19000- 40000\n",
              "17      44000- 99000\n",
              "18      44000- 99000\n",
              "19      44000- 99000\n",
              "20      44000- 99000\n",
              "21      44000- 99000\n",
              "22      55000- 66000\n",
              "23      44000- 99000\n",
              "24      44000- 99000\n",
              "25      44000- 99000\n",
              "26      55000- 66000\n",
              "27      44000- 99000\n",
              "28      39000- 88000\n",
              "Name: Salary, dtype: object"
            ]
          },
          "metadata": {},
          "execution_count": 146
        }
      ]
    },
    {
      "cell_type": "markdown",
      "id": "b7b3beb3",
      "metadata": {
        "id": "b7b3beb3"
      },
      "source": [
        "Question 5: Location Standardization:  Check the consistency of location entries. Do they need standardization, and how can this be achieved?"
      ]
    },
    {
      "cell_type": "code",
      "execution_count": 147,
      "id": "cb2421d0",
      "metadata": {
        "id": "cb2421d0",
        "outputId": "b8e74038-9e1f-4e6d-b292-0913313877fa",
        "colab": {
          "base_uri": "https://localhost:8080/"
        }
      },
      "outputs": [
        {
          "output_type": "execute_result",
          "data": {
            "text/plain": [
              "array(['India,In', 'New York,Ny', 'India In', 'Australia Aus'],\n",
              "      dtype=object)"
            ]
          },
          "metadata": {},
          "execution_count": 147
        }
      ],
      "source": [
        "df['Location'].unique()"
      ]
    },
    {
      "cell_type": "code",
      "source": [
        "data['Location'] = df['Location'].replace({'India,In':'India',\n",
        "                                          'New York,Ny':'New York',\n",
        "                                          'India In':'India',\n",
        "                                          'Australia Aus':'Australia'})"
      ],
      "metadata": {
        "id": "-BCos2GmYTQV"
      },
      "id": "-BCos2GmYTQV",
      "execution_count": 148,
      "outputs": []
    },
    {
      "cell_type": "code",
      "source": [
        "data['Location']"
      ],
      "metadata": {
        "colab": {
          "base_uri": "https://localhost:8080/"
        },
        "id": "gwsUaJRjYYFz",
        "outputId": "f391d66d-9cef-4c70-cc15-f3e9565a0ecc"
      },
      "id": "gwsUaJRjYYFz",
      "execution_count": 149,
      "outputs": [
        {
          "output_type": "execute_result",
          "data": {
            "text/plain": [
              "0         India\n",
              "1      New York\n",
              "2      New York\n",
              "3         India\n",
              "4     Australia\n",
              "5         India\n",
              "6      New York\n",
              "7     Australia\n",
              "8      New York\n",
              "9         India\n",
              "10        India\n",
              "11        India\n",
              "12        India\n",
              "13    Australia\n",
              "14    Australia\n",
              "15    Australia\n",
              "16        India\n",
              "17     New York\n",
              "18     New York\n",
              "19     New York\n",
              "20     New York\n",
              "21     New York\n",
              "22     New York\n",
              "23     New York\n",
              "24     New York\n",
              "25    Australia\n",
              "26        India\n",
              "27        India\n",
              "28    Australia\n",
              "Name: Location, dtype: object"
            ]
          },
          "metadata": {},
          "execution_count": 149
        }
      ]
    },
    {
      "cell_type": "markdown",
      "id": "2ec39547",
      "metadata": {
        "id": "2ec39547"
      },
      "source": [
        "Question 6: Established Column: Explore the Established column. Are there any inconsistencies or anomalies that need to be addressed?"
      ]
    },
    {
      "cell_type": "code",
      "execution_count": 150,
      "id": "e50b5304",
      "metadata": {
        "id": "e50b5304",
        "outputId": "997f38e0-121b-4a9f-f033-7da3be90b2ed",
        "colab": {
          "base_uri": "https://localhost:8080/"
        }
      },
      "outputs": [
        {
          "output_type": "execute_result",
          "data": {
            "text/plain": [
              "0      1999\n",
              "1      2002\n",
              "2     False\n",
              "3      1988\n",
              "4      2002\n",
              "5      1999\n",
              "6     False\n",
              "7     False\n",
              "8     False\n",
              "9     False\n",
              "10     2008\n",
              "11     2009\n",
              "12     1999\n",
              "13     2019\n",
              "14     2020\n",
              "15     1999\n",
              "16     1984\n",
              "17     1943\n",
              "18     1954\n",
              "19     1955\n",
              "20     1944\n",
              "21     1946\n",
              "22     1988\n",
              "23     1999\n",
              "24     1987\n",
              "25     1980\n",
              "26     1934\n",
              "27     1935\n",
              "28     1932\n",
              "Name: Established, dtype: object"
            ]
          },
          "metadata": {},
          "execution_count": 150
        }
      ],
      "source": [
        "data['Established'] = df.Established.replace({-1: False})\n",
        "data['Established']"
      ]
    },
    {
      "cell_type": "markdown",
      "id": "68f89ba7",
      "metadata": {
        "id": "68f89ba7"
      },
      "source": [
        "Question 7: Easy Apply indicator: Analyze the Easy Apply column. Does it contain boolean values or need transformation for better analysis?"
      ]
    },
    {
      "cell_type": "code",
      "execution_count": 151,
      "id": "ba38208a",
      "metadata": {
        "id": "ba38208a",
        "outputId": "3d0c5063-118c-4245-ea6a-958f911551e7",
        "colab": {
          "base_uri": "https://localhost:8080/"
        }
      },
      "outputs": [
        {
          "output_type": "execute_result",
          "data": {
            "text/plain": [
              "Index(['Index', 'Age', 'Salary', 'Rating', 'Location', 'Established',\n",
              "       'EasyApply'],\n",
              "      dtype='object')"
            ]
          },
          "metadata": {},
          "execution_count": 151
        }
      ],
      "source": [
        "df.columns"
      ]
    },
    {
      "cell_type": "code",
      "source": [
        "data['Easy_Apply'] = df.EasyApply.replace({'-1': False})\n",
        "data['Easy_Apply']"
      ],
      "metadata": {
        "colab": {
          "base_uri": "https://localhost:8080/"
        },
        "id": "QWw9JNJtbkEx",
        "outputId": "e411a89f-94b7-44eb-b136-98fb0f5864d2"
      },
      "id": "QWw9JNJtbkEx",
      "execution_count": 153,
      "outputs": [
        {
          "output_type": "execute_result",
          "data": {
            "text/plain": [
              "0      TRUE\n",
              "1      TRUE\n",
              "2     False\n",
              "3     False\n",
              "4     False\n",
              "5      TRUE\n",
              "6     False\n",
              "7     False\n",
              "8     False\n",
              "9      TRUE\n",
              "10     TRUE\n",
              "11    False\n",
              "12    False\n",
              "13     TRUE\n",
              "14     TRUE\n",
              "15    False\n",
              "16    False\n",
              "17     TRUE\n",
              "18     TRUE\n",
              "19     TRUE\n",
              "20     TRUE\n",
              "21    False\n",
              "22     TRUE\n",
              "23     TRUE\n",
              "24    False\n",
              "25     TRUE\n",
              "26     TRUE\n",
              "27    False\n",
              "28    False\n",
              "Name: EasyApply, dtype: object"
            ]
          },
          "metadata": {},
          "execution_count": 153
        }
      ]
    },
    {
      "cell_type": "markdown",
      "id": "9181bd39",
      "metadata": {
        "id": "9181bd39"
      },
      "source": [
        "Question 8: Rating Range:Investigate the range of values in the Rating column. Does it fall within expected rating scales, and how should outliers be treated?"
      ]
    },
    {
      "cell_type": "code",
      "execution_count": 156,
      "id": "8f9ad4a5",
      "metadata": {
        "id": "8f9ad4a5"
      },
      "outputs": [],
      "source": [
        "rating_stats=df.Rating.describe()"
      ]
    },
    {
      "cell_type": "code",
      "execution_count": 157,
      "id": "da7a779f",
      "metadata": {
        "id": "da7a779f"
      },
      "outputs": [],
      "source": [
        "unique_ratings = df['Rating'].unique()\n"
      ]
    },
    {
      "cell_type": "code",
      "source": [
        "print(\"Descriptive Statistics for 'Rating' column:\")\n",
        "print(rating_stats)\n",
        "\n",
        "print(\"\\nUnique Values in 'Rating' column:\")\n",
        "print(unique_ratings)"
      ],
      "metadata": {
        "colab": {
          "base_uri": "https://localhost:8080/"
        },
        "id": "_nqEgcWveb7x",
        "outputId": "34e4219e-2411-4de1-a17a-dd00f7144b39"
      },
      "id": "_nqEgcWveb7x",
      "execution_count": 158,
      "outputs": [
        {
          "output_type": "stream",
          "name": "stdout",
          "text": [
            "Descriptive Statistics for 'Rating' column:\n",
            "count    29.000000\n",
            "mean      3.372414\n",
            "std       2.898879\n",
            "min      -1.000000\n",
            "25%       0.000000\n",
            "50%       4.000000\n",
            "75%       5.400000\n",
            "max       7.800000\n",
            "Name: Rating, dtype: float64\n",
            "\n",
            "Unique Values in 'Rating' column:\n",
            "[ 5.4  3.5 -1.   4.4  6.4  1.4  0.   7.7  6.7  4.   3.   4.5  5.3  3.3\n",
            "  5.7  5.   7.8  2.4  3.4]\n"
          ]
        }
      ]
    },
    {
      "cell_type": "markdown",
      "id": "0b61a4df",
      "metadata": {
        "id": "0b61a4df"
      },
      "source": [
        "Question 9: Age Distribution:Check the distribution of values in the Age column. Are there any unusual entries, and how might they impact analysis?"
      ]
    },
    {
      "cell_type": "code",
      "execution_count": 159,
      "id": "c452b473",
      "metadata": {
        "id": "c452b473",
        "outputId": "670f9c6e-9d4a-45eb-a843-b33581c03cb1",
        "colab": {
          "base_uri": "https://localhost:8080/"
        }
      },
      "outputs": [
        {
          "output_type": "execute_result",
          "data": {
            "text/plain": [
              "0     44.0\n",
              "1     66.0\n",
              "2     39.5\n",
              "3     64.0\n",
              "4     25.0\n",
              "5     44.0\n",
              "6     21.0\n",
              "7     44.0\n",
              "8     35.0\n",
              "9     22.0\n",
              "10    55.0\n",
              "11    44.0\n",
              "12    39.5\n",
              "13    25.0\n",
              "14    66.0\n",
              "15    44.0\n",
              "16    19.0\n",
              "17    39.5\n",
              "18    35.0\n",
              "19    32.0\n",
              "20    39.5\n",
              "21    35.0\n",
              "22    19.0\n",
              "23    39.5\n",
              "24    13.0\n",
              "25    55.0\n",
              "26    39.5\n",
              "27    52.0\n",
              "28    39.5\n",
              "Name: Age, dtype: float64"
            ]
          },
          "metadata": {},
          "execution_count": 159
        }
      ],
      "source": [
        "df['Age']"
      ]
    },
    {
      "cell_type": "code",
      "source": [
        "age_stats = df['Age'].describe()\n",
        "unique_ages = df['Age'].unique()"
      ],
      "metadata": {
        "id": "V2Fg_2_HezPQ"
      },
      "id": "V2Fg_2_HezPQ",
      "execution_count": 160,
      "outputs": []
    },
    {
      "cell_type": "code",
      "source": [
        "\n",
        "print(\"Descriptive Statistics for 'Age' column:\")\n",
        "print(age_stats)\n",
        "\n",
        "print(\"\\nUnique Values in 'Age' column:\")\n",
        "print(unique_ages)\n"
      ],
      "metadata": {
        "colab": {
          "base_uri": "https://localhost:8080/"
        },
        "id": "rcwUSCzqe5Ja",
        "outputId": "e0d84373-fb87-4614-8faa-e7af78ce343b"
      },
      "id": "rcwUSCzqe5Ja",
      "execution_count": 161,
      "outputs": [
        {
          "output_type": "stream",
          "name": "stdout",
          "text": [
            "Descriptive Statistics for 'Age' column:\n",
            "count    29.000000\n",
            "mean     39.155172\n",
            "std      13.974533\n",
            "min      13.000000\n",
            "25%      32.000000\n",
            "50%      39.500000\n",
            "75%      44.000000\n",
            "max      66.000000\n",
            "Name: Age, dtype: float64\n",
            "\n",
            "Unique Values in 'Age' column:\n",
            "[44.  66.  39.5 64.  25.  21.  35.  22.  55.  19.  32.  13.  52. ]\n"
          ]
        }
      ]
    },
    {
      "cell_type": "markdown",
      "id": "7c5586ce",
      "metadata": {
        "id": "7c5586ce"
      },
      "source": [
        "Question 10: Handling special characters:Examine all text-based columns (e.g., Location). Are there special characters or inconsistencies that need cleaning?\n"
      ]
    },
    {
      "cell_type": "code",
      "execution_count": 162,
      "id": "652a60cd",
      "metadata": {
        "id": "652a60cd",
        "outputId": "b3c66544-5da8-496a-d6a6-45e92080ace8",
        "colab": {
          "base_uri": "https://localhost:8080/"
        }
      },
      "outputs": [
        {
          "output_type": "execute_result",
          "data": {
            "text/plain": [
              "Index            int64\n",
              "Age            float64\n",
              "Salary          object\n",
              "Rating         float64\n",
              "Location        object\n",
              "Established      int64\n",
              "EasyApply       object\n",
              "dtype: object"
            ]
          },
          "metadata": {},
          "execution_count": 162
        }
      ],
      "source": [
        "df.dtypes"
      ]
    },
    {
      "cell_type": "code",
      "execution_count": 165,
      "id": "b6fbe76e",
      "metadata": {
        "id": "b6fbe76e",
        "outputId": "e33f04f6-cea9-492c-8302-db7e81c2954c",
        "colab": {
          "base_uri": "https://localhost:8080/"
        }
      },
      "outputs": [
        {
          "output_type": "stream",
          "name": "stdout",
          "text": [
            "\n",
            "Unique Values in 'Location' column:\n",
            "['India,In' 'New York,Ny' 'India In' 'Australia Aus']\n",
            "Special characters found in 'Location': India,In\n",
            "Special characters found in 'Location': New York,Ny\n",
            "Special characters found in 'Location': India In\n",
            "Special characters found in 'Location': Australia Aus\n",
            "\n",
            "Unique Values in 'Established' column:\n",
            "[1999 2002   -1 1988 2008 2009 2019 2020 1984 1943 1954 1955 1944 1946\n",
            " 1987 1980 1934 1935 1932]\n",
            "\n",
            "Unique Values in 'EasyApply' column:\n",
            "['TRUE' '-1']\n",
            "Special characters found in 'EasyApply': TRUE\n",
            "Special characters found in 'EasyApply': -1\n"
          ]
        }
      ],
      "source": [
        "text_columns = ['Location', 'Established', 'EasyApply']\n",
        "for column in text_columns:\n",
        "    unique_values = df[column].unique()\n",
        "    print(f\"\\nUnique Values in '{column}' column:\")\n",
        "    print(unique_values)\n",
        "    for value in unique_values:\n",
        "        if isinstance(value, str):\n",
        "            # Check if the value contains any special characters\n",
        "            if any(char.isalnum() or char.isspace() for char in value):\n",
        "                print(f\"Special characters found in '{column}': {value}\")"
      ]
    },
    {
      "cell_type": "markdown",
      "id": "cc59f789",
      "metadata": {
        "id": "cc59f789"
      },
      "source": [
        "Question 11: Data integrity:Ensure data integrity by cross-referencing entries. For instance, does the Established column align with the Age column?\n"
      ]
    },
    {
      "cell_type": "code",
      "execution_count": 170,
      "id": "1e3833e0",
      "metadata": {
        "id": "1e3833e0",
        "colab": {
          "base_uri": "https://localhost:8080/"
        },
        "outputId": "b700e780-06e8-4e5e-eaad-a9f4d1f68ea6"
      },
      "outputs": [
        {
          "output_type": "stream",
          "name": "stdout",
          "text": [
            "Rows where 'Established' does not align with 'Age':\n",
            "  Established  Age\n",
            "0        2000   23\n",
            "1        1999   28\n",
            "2        2009   13\n"
          ]
        }
      ],
      "source": [
        "established_age_mismatch = df[df['Established'] != df['Age']]\n",
        "print(\"Rows where 'Established' does not align with 'Age':\")\n",
        "print(established_age_mismatch)\n",
        "\n"
      ]
    },
    {
      "cell_type": "markdown",
      "id": "415bd261",
      "metadata": {
        "id": "415bd261"
      },
      "source": [
        "Question 12: Easy Apply Transformation: If the Easy Apply column contains non-boolean values, how can it be transformed into a usable format?"
      ]
    },
    {
      "cell_type": "code",
      "source": [
        "df = {'EasyApply': ['True', 'False', 'No Info', 'Yes', 'No']}\n",
        "data = pd.DataFrame(df)"
      ],
      "metadata": {
        "id": "pHlAPLrVgrGT"
      },
      "id": "pHlAPLrVgrGT",
      "execution_count": 197,
      "outputs": []
    },
    {
      "cell_type": "code",
      "source": [
        "boolean_mapping = {'True': True, 'False': False, 'No Info': None, 'Yes': True, 'No': False}"
      ],
      "metadata": {
        "id": "J63V7Ci6g6KA"
      },
      "id": "J63V7Ci6g6KA",
      "execution_count": 198,
      "outputs": []
    },
    {
      "cell_type": "code",
      "source": [
        "data['EasyApply'] = data['EasyApply'].map(boolean_mapping)"
      ],
      "metadata": {
        "id": "T_CVfJtcg6ET"
      },
      "id": "T_CVfJtcg6ET",
      "execution_count": 199,
      "outputs": []
    },
    {
      "cell_type": "code",
      "source": [
        "data"
      ],
      "metadata": {
        "colab": {
          "base_uri": "https://localhost:8080/",
          "height": 206
        },
        "id": "SA2SUPWLhwi2",
        "outputId": "a91e922e-22fd-4aa0-8884-d36deb1a9066"
      },
      "id": "SA2SUPWLhwi2",
      "execution_count": 200,
      "outputs": [
        {
          "output_type": "execute_result",
          "data": {
            "text/plain": [
              "  EasyApply\n",
              "0      True\n",
              "1     False\n",
              "2      None\n",
              "3      True\n",
              "4     False"
            ],
            "text/html": [
              "\n",
              "  <div id=\"df-dfe74341-db3a-457f-9fc3-85f3591a40f7\" class=\"colab-df-container\">\n",
              "    <div>\n",
              "<style scoped>\n",
              "    .dataframe tbody tr th:only-of-type {\n",
              "        vertical-align: middle;\n",
              "    }\n",
              "\n",
              "    .dataframe tbody tr th {\n",
              "        vertical-align: top;\n",
              "    }\n",
              "\n",
              "    .dataframe thead th {\n",
              "        text-align: right;\n",
              "    }\n",
              "</style>\n",
              "<table border=\"1\" class=\"dataframe\">\n",
              "  <thead>\n",
              "    <tr style=\"text-align: right;\">\n",
              "      <th></th>\n",
              "      <th>EasyApply</th>\n",
              "    </tr>\n",
              "  </thead>\n",
              "  <tbody>\n",
              "    <tr>\n",
              "      <th>0</th>\n",
              "      <td>True</td>\n",
              "    </tr>\n",
              "    <tr>\n",
              "      <th>1</th>\n",
              "      <td>False</td>\n",
              "    </tr>\n",
              "    <tr>\n",
              "      <th>2</th>\n",
              "      <td>None</td>\n",
              "    </tr>\n",
              "    <tr>\n",
              "      <th>3</th>\n",
              "      <td>True</td>\n",
              "    </tr>\n",
              "    <tr>\n",
              "      <th>4</th>\n",
              "      <td>False</td>\n",
              "    </tr>\n",
              "  </tbody>\n",
              "</table>\n",
              "</div>\n",
              "    <div class=\"colab-df-buttons\">\n",
              "\n",
              "  <div class=\"colab-df-container\">\n",
              "    <button class=\"colab-df-convert\" onclick=\"convertToInteractive('df-dfe74341-db3a-457f-9fc3-85f3591a40f7')\"\n",
              "            title=\"Convert this dataframe to an interactive table.\"\n",
              "            style=\"display:none;\">\n",
              "\n",
              "  <svg xmlns=\"http://www.w3.org/2000/svg\" height=\"24px\" viewBox=\"0 -960 960 960\">\n",
              "    <path d=\"M120-120v-720h720v720H120Zm60-500h600v-160H180v160Zm220 220h160v-160H400v160Zm0 220h160v-160H400v160ZM180-400h160v-160H180v160Zm440 0h160v-160H620v160ZM180-180h160v-160H180v160Zm440 0h160v-160H620v160Z\"/>\n",
              "  </svg>\n",
              "    </button>\n",
              "\n",
              "  <style>\n",
              "    .colab-df-container {\n",
              "      display:flex;\n",
              "      gap: 12px;\n",
              "    }\n",
              "\n",
              "    .colab-df-convert {\n",
              "      background-color: #E8F0FE;\n",
              "      border: none;\n",
              "      border-radius: 50%;\n",
              "      cursor: pointer;\n",
              "      display: none;\n",
              "      fill: #1967D2;\n",
              "      height: 32px;\n",
              "      padding: 0 0 0 0;\n",
              "      width: 32px;\n",
              "    }\n",
              "\n",
              "    .colab-df-convert:hover {\n",
              "      background-color: #E2EBFA;\n",
              "      box-shadow: 0px 1px 2px rgba(60, 64, 67, 0.3), 0px 1px 3px 1px rgba(60, 64, 67, 0.15);\n",
              "      fill: #174EA6;\n",
              "    }\n",
              "\n",
              "    .colab-df-buttons div {\n",
              "      margin-bottom: 4px;\n",
              "    }\n",
              "\n",
              "    [theme=dark] .colab-df-convert {\n",
              "      background-color: #3B4455;\n",
              "      fill: #D2E3FC;\n",
              "    }\n",
              "\n",
              "    [theme=dark] .colab-df-convert:hover {\n",
              "      background-color: #434B5C;\n",
              "      box-shadow: 0px 1px 3px 1px rgba(0, 0, 0, 0.15);\n",
              "      filter: drop-shadow(0px 1px 2px rgba(0, 0, 0, 0.3));\n",
              "      fill: #FFFFFF;\n",
              "    }\n",
              "  </style>\n",
              "\n",
              "    <script>\n",
              "      const buttonEl =\n",
              "        document.querySelector('#df-dfe74341-db3a-457f-9fc3-85f3591a40f7 button.colab-df-convert');\n",
              "      buttonEl.style.display =\n",
              "        google.colab.kernel.accessAllowed ? 'block' : 'none';\n",
              "\n",
              "      async function convertToInteractive(key) {\n",
              "        const element = document.querySelector('#df-dfe74341-db3a-457f-9fc3-85f3591a40f7');\n",
              "        const dataTable =\n",
              "          await google.colab.kernel.invokeFunction('convertToInteractive',\n",
              "                                                    [key], {});\n",
              "        if (!dataTable) return;\n",
              "\n",
              "        const docLinkHtml = 'Like what you see? Visit the ' +\n",
              "          '<a target=\"_blank\" href=https://colab.research.google.com/notebooks/data_table.ipynb>data table notebook</a>'\n",
              "          + ' to learn more about interactive tables.';\n",
              "        element.innerHTML = '';\n",
              "        dataTable['output_type'] = 'display_data';\n",
              "        await google.colab.output.renderOutput(dataTable, element);\n",
              "        const docLink = document.createElement('div');\n",
              "        docLink.innerHTML = docLinkHtml;\n",
              "        element.appendChild(docLink);\n",
              "      }\n",
              "    </script>\n",
              "  </div>\n",
              "\n",
              "\n",
              "<div id=\"df-9c71c330-fb0f-406b-a4e9-b21e5c8e71fc\">\n",
              "  <button class=\"colab-df-quickchart\" onclick=\"quickchart('df-9c71c330-fb0f-406b-a4e9-b21e5c8e71fc')\"\n",
              "            title=\"Suggest charts\"\n",
              "            style=\"display:none;\">\n",
              "\n",
              "<svg xmlns=\"http://www.w3.org/2000/svg\" height=\"24px\"viewBox=\"0 0 24 24\"\n",
              "     width=\"24px\">\n",
              "    <g>\n",
              "        <path d=\"M19 3H5c-1.1 0-2 .9-2 2v14c0 1.1.9 2 2 2h14c1.1 0 2-.9 2-2V5c0-1.1-.9-2-2-2zM9 17H7v-7h2v7zm4 0h-2V7h2v10zm4 0h-2v-4h2v4z\"/>\n",
              "    </g>\n",
              "</svg>\n",
              "  </button>\n",
              "\n",
              "<style>\n",
              "  .colab-df-quickchart {\n",
              "      --bg-color: #E8F0FE;\n",
              "      --fill-color: #1967D2;\n",
              "      --hover-bg-color: #E2EBFA;\n",
              "      --hover-fill-color: #174EA6;\n",
              "      --disabled-fill-color: #AAA;\n",
              "      --disabled-bg-color: #DDD;\n",
              "  }\n",
              "\n",
              "  [theme=dark] .colab-df-quickchart {\n",
              "      --bg-color: #3B4455;\n",
              "      --fill-color: #D2E3FC;\n",
              "      --hover-bg-color: #434B5C;\n",
              "      --hover-fill-color: #FFFFFF;\n",
              "      --disabled-bg-color: #3B4455;\n",
              "      --disabled-fill-color: #666;\n",
              "  }\n",
              "\n",
              "  .colab-df-quickchart {\n",
              "    background-color: var(--bg-color);\n",
              "    border: none;\n",
              "    border-radius: 50%;\n",
              "    cursor: pointer;\n",
              "    display: none;\n",
              "    fill: var(--fill-color);\n",
              "    height: 32px;\n",
              "    padding: 0;\n",
              "    width: 32px;\n",
              "  }\n",
              "\n",
              "  .colab-df-quickchart:hover {\n",
              "    background-color: var(--hover-bg-color);\n",
              "    box-shadow: 0 1px 2px rgba(60, 64, 67, 0.3), 0 1px 3px 1px rgba(60, 64, 67, 0.15);\n",
              "    fill: var(--button-hover-fill-color);\n",
              "  }\n",
              "\n",
              "  .colab-df-quickchart-complete:disabled,\n",
              "  .colab-df-quickchart-complete:disabled:hover {\n",
              "    background-color: var(--disabled-bg-color);\n",
              "    fill: var(--disabled-fill-color);\n",
              "    box-shadow: none;\n",
              "  }\n",
              "\n",
              "  .colab-df-spinner {\n",
              "    border: 2px solid var(--fill-color);\n",
              "    border-color: transparent;\n",
              "    border-bottom-color: var(--fill-color);\n",
              "    animation:\n",
              "      spin 1s steps(1) infinite;\n",
              "  }\n",
              "\n",
              "  @keyframes spin {\n",
              "    0% {\n",
              "      border-color: transparent;\n",
              "      border-bottom-color: var(--fill-color);\n",
              "      border-left-color: var(--fill-color);\n",
              "    }\n",
              "    20% {\n",
              "      border-color: transparent;\n",
              "      border-left-color: var(--fill-color);\n",
              "      border-top-color: var(--fill-color);\n",
              "    }\n",
              "    30% {\n",
              "      border-color: transparent;\n",
              "      border-left-color: var(--fill-color);\n",
              "      border-top-color: var(--fill-color);\n",
              "      border-right-color: var(--fill-color);\n",
              "    }\n",
              "    40% {\n",
              "      border-color: transparent;\n",
              "      border-right-color: var(--fill-color);\n",
              "      border-top-color: var(--fill-color);\n",
              "    }\n",
              "    60% {\n",
              "      border-color: transparent;\n",
              "      border-right-color: var(--fill-color);\n",
              "    }\n",
              "    80% {\n",
              "      border-color: transparent;\n",
              "      border-right-color: var(--fill-color);\n",
              "      border-bottom-color: var(--fill-color);\n",
              "    }\n",
              "    90% {\n",
              "      border-color: transparent;\n",
              "      border-bottom-color: var(--fill-color);\n",
              "    }\n",
              "  }\n",
              "</style>\n",
              "\n",
              "  <script>\n",
              "    async function quickchart(key) {\n",
              "      const quickchartButtonEl =\n",
              "        document.querySelector('#' + key + ' button');\n",
              "      quickchartButtonEl.disabled = true;  // To prevent multiple clicks.\n",
              "      quickchartButtonEl.classList.add('colab-df-spinner');\n",
              "      try {\n",
              "        const charts = await google.colab.kernel.invokeFunction(\n",
              "            'suggestCharts', [key], {});\n",
              "      } catch (error) {\n",
              "        console.error('Error during call to suggestCharts:', error);\n",
              "      }\n",
              "      quickchartButtonEl.classList.remove('colab-df-spinner');\n",
              "      quickchartButtonEl.classList.add('colab-df-quickchart-complete');\n",
              "    }\n",
              "    (() => {\n",
              "      let quickchartButtonEl =\n",
              "        document.querySelector('#df-9c71c330-fb0f-406b-a4e9-b21e5c8e71fc button');\n",
              "      quickchartButtonEl.style.display =\n",
              "        google.colab.kernel.accessAllowed ? 'block' : 'none';\n",
              "    })();\n",
              "  </script>\n",
              "</div>\n",
              "\n",
              "  <div id=\"id_d024cab9-c4f6-45c9-aa57-8ae5f56e4122\">\n",
              "    <style>\n",
              "      .colab-df-generate {\n",
              "        background-color: #E8F0FE;\n",
              "        border: none;\n",
              "        border-radius: 50%;\n",
              "        cursor: pointer;\n",
              "        display: none;\n",
              "        fill: #1967D2;\n",
              "        height: 32px;\n",
              "        padding: 0 0 0 0;\n",
              "        width: 32px;\n",
              "      }\n",
              "\n",
              "      .colab-df-generate:hover {\n",
              "        background-color: #E2EBFA;\n",
              "        box-shadow: 0px 1px 2px rgba(60, 64, 67, 0.3), 0px 1px 3px 1px rgba(60, 64, 67, 0.15);\n",
              "        fill: #174EA6;\n",
              "      }\n",
              "\n",
              "      [theme=dark] .colab-df-generate {\n",
              "        background-color: #3B4455;\n",
              "        fill: #D2E3FC;\n",
              "      }\n",
              "\n",
              "      [theme=dark] .colab-df-generate:hover {\n",
              "        background-color: #434B5C;\n",
              "        box-shadow: 0px 1px 3px 1px rgba(0, 0, 0, 0.15);\n",
              "        filter: drop-shadow(0px 1px 2px rgba(0, 0, 0, 0.3));\n",
              "        fill: #FFFFFF;\n",
              "      }\n",
              "    </style>\n",
              "    <button class=\"colab-df-generate\" onclick=\"generateWithVariable('data')\"\n",
              "            title=\"Generate code using this dataframe.\"\n",
              "            style=\"display:none;\">\n",
              "\n",
              "  <svg xmlns=\"http://www.w3.org/2000/svg\" height=\"24px\"viewBox=\"0 0 24 24\"\n",
              "       width=\"24px\">\n",
              "    <path d=\"M7,19H8.4L18.45,9,17,7.55,7,17.6ZM5,21V16.75L18.45,3.32a2,2,0,0,1,2.83,0l1.4,1.43a1.91,1.91,0,0,1,.58,1.4,1.91,1.91,0,0,1-.58,1.4L9.25,21ZM18.45,9,17,7.55Zm-12,3A5.31,5.31,0,0,0,4.9,8.1,5.31,5.31,0,0,0,1,6.5,5.31,5.31,0,0,0,4.9,4.9,5.31,5.31,0,0,0,6.5,1,5.31,5.31,0,0,0,8.1,4.9,5.31,5.31,0,0,0,12,6.5,5.46,5.46,0,0,0,6.5,12Z\"/>\n",
              "  </svg>\n",
              "    </button>\n",
              "    <script>\n",
              "      (() => {\n",
              "      const buttonEl =\n",
              "        document.querySelector('#id_d024cab9-c4f6-45c9-aa57-8ae5f56e4122 button.colab-df-generate');\n",
              "      buttonEl.style.display =\n",
              "        google.colab.kernel.accessAllowed ? 'block' : 'none';\n",
              "\n",
              "      buttonEl.onclick = () => {\n",
              "        google.colab.notebook.generateWithVariable('data');\n",
              "      }\n",
              "      })();\n",
              "    </script>\n",
              "  </div>\n",
              "\n",
              "    </div>\n",
              "  </div>\n"
            ]
          },
          "metadata": {},
          "execution_count": 200
        }
      ]
    },
    {
      "cell_type": "markdown",
      "id": "eac0ff64",
      "metadata": {
        "id": "eac0ff64"
      },
      "source": [
        "Question 13: Location Accuracy:Assess the accuracy of location entries. Are there misspelled or ambiguous locations that require correction?"
      ]
    },
    {
      "cell_type": "code",
      "execution_count": 202,
      "id": "6ccbcee3",
      "metadata": {
        "id": "6ccbcee3"
      },
      "outputs": [],
      "source": [
        "from difflib import get_close_matches"
      ]
    },
    {
      "cell_type": "code",
      "execution_count": 204,
      "id": "def823a7",
      "metadata": {
        "id": "def823a7"
      },
      "outputs": [],
      "source": [
        "df = {'Location': ['New York', 'India', 'Australia']}\n",
        "data = pd.DataFrame(df)"
      ]
    },
    {
      "cell_type": "code",
      "execution_count": 205,
      "id": "2221e169",
      "metadata": {
        "id": "2221e169",
        "outputId": "b42f71b6-0569-41ef-ec77-3acb8cf2deb0",
        "colab": {
          "base_uri": "https://localhost:8080/"
        }
      },
      "outputs": [
        {
          "output_type": "stream",
          "name": "stdout",
          "text": [
            "Unique Locations:\n",
            "['New York' 'India' 'Australia']\n"
          ]
        }
      ],
      "source": [
        "unique_locations = data['Location'].unique()\n",
        "print(\"Unique Locations:\")\n",
        "print(unique_locations)\n"
      ]
    },
    {
      "cell_type": "code",
      "execution_count": 206,
      "id": "a9b48ff6",
      "metadata": {
        "id": "a9b48ff6"
      },
      "outputs": [],
      "source": [
        "def find_close_matches(location, all_locations):\n",
        "    close_matches = get_close_matches(location, all_locations, n=1, cutoff=0.8)\n",
        "    return close_matches[0] if close_matches else None"
      ]
    },
    {
      "cell_type": "code",
      "execution_count": 207,
      "id": "e55f979d",
      "metadata": {
        "id": "e55f979d"
      },
      "outputs": [],
      "source": [
        "all_locations = unique_locations.tolist()\n",
        "data['Corrected_Location'] = data['Location'].apply(lambda x: find_close_matches(x, all_locations))\n"
      ]
    },
    {
      "cell_type": "code",
      "execution_count": 208,
      "id": "6566e7ea",
      "metadata": {
        "id": "6566e7ea",
        "outputId": "b76d770a-4fc3-4c14-9ec6-31a8856d9f39",
        "colab": {
          "base_uri": "https://localhost:8080/"
        }
      },
      "outputs": [
        {
          "output_type": "stream",
          "name": "stdout",
          "text": [
            "\n",
            "DataFrame with Potential Corrections:\n",
            "    Location Corrected_Location\n",
            "0   New York           New York\n",
            "1      India              India\n",
            "2  Australia          Australia\n"
          ]
        }
      ],
      "source": [
        "print(\"\\nDataFrame with Potential Corrections:\")\n",
        "print(data[['Location', 'Corrected_Location']])"
      ]
    },
    {
      "cell_type": "markdown",
      "id": "213635c3",
      "metadata": {
        "id": "213635c3"
      },
      "source": [
        "Question 14: Handling Categorical Data:For categorical indicators, consider encoding or transforming them into a format suitable for analysis.\n"
      ]
    },
    {
      "cell_type": "code",
      "execution_count": 209,
      "id": "75fe8751",
      "metadata": {
        "id": "75fe8751"
      },
      "outputs": [],
      "source": [
        "df = {'Category': ['Index', 'Age', 'Salary', 'Established', 'Rating', 'Location', 'Easy apply'],\n",
        "        'Status': ['Active', 'active', 'Active', 'Active', 'active', 'Active', 'Active']}\n",
        "data = pd.DataFrame(df)"
      ]
    },
    {
      "cell_type": "code",
      "execution_count": 210,
      "id": "5524c473",
      "metadata": {
        "id": "5524c473"
      },
      "outputs": [],
      "source": [
        "one_hot = pd.get_dummies(data, columns=['Category', 'Status'], prefix=['Cat', 'Stat'])\n"
      ]
    },
    {
      "cell_type": "code",
      "execution_count": 211,
      "id": "5abfa4af",
      "metadata": {
        "id": "5abfa4af"
      },
      "outputs": [],
      "source": [
        "label = data.copy()\n",
        "for column in label.columns:\n",
        "    label[column] = label[column].astype('category').cat.codes\n"
      ]
    },
    {
      "cell_type": "code",
      "execution_count": 212,
      "id": "cb3506b4",
      "metadata": {
        "id": "cb3506b4",
        "outputId": "e2107796-9330-40c9-d266-cae067b8c1dc",
        "colab": {
          "base_uri": "https://localhost:8080/"
        }
      },
      "outputs": [
        {
          "output_type": "stream",
          "name": "stdout",
          "text": [
            "Original DataFrame:\n",
            "      Category  Status\n",
            "0        Index  Active\n",
            "1          Age  active\n",
            "2       Salary  Active\n",
            "3  Established  Active\n",
            "4       Rating  active\n",
            "5     Location  Active\n",
            "6   Easy apply  Active\n"
          ]
        }
      ],
      "source": [
        "print(\"Original DataFrame:\")\n",
        "print(data)"
      ]
    },
    {
      "cell_type": "code",
      "execution_count": 213,
      "id": "46708527",
      "metadata": {
        "id": "46708527",
        "outputId": "cdd53d42-0bfe-4265-8d4f-d2b0f5f56a36",
        "colab": {
          "base_uri": "https://localhost:8080/"
        }
      },
      "outputs": [
        {
          "output_type": "stream",
          "name": "stdout",
          "text": [
            "\n",
            "One-Hot Encoded DataFrame:\n",
            "   Cat_Age  Cat_Easy apply  Cat_Established  Cat_Index  Cat_Location  \\\n",
            "0        0               0                0          1             0   \n",
            "1        1               0                0          0             0   \n",
            "2        0               0                0          0             0   \n",
            "3        0               0                1          0             0   \n",
            "4        0               0                0          0             0   \n",
            "5        0               0                0          0             1   \n",
            "6        0               1                0          0             0   \n",
            "\n",
            "   Cat_Rating  Cat_Salary  Stat_Active  Stat_active  \n",
            "0           0           0            1            0  \n",
            "1           0           0            0            1  \n",
            "2           0           1            1            0  \n",
            "3           0           0            1            0  \n",
            "4           1           0            0            1  \n",
            "5           0           0            1            0  \n",
            "6           0           0            1            0  \n"
          ]
        }
      ],
      "source": [
        "print(\"\\nOne-Hot Encoded DataFrame:\")\n",
        "print(one_hot)"
      ]
    },
    {
      "cell_type": "code",
      "execution_count": 214,
      "id": "bdb7439b",
      "metadata": {
        "id": "bdb7439b",
        "outputId": "9c3752c6-39a0-4cbf-9bd0-577b3478e08a",
        "colab": {
          "base_uri": "https://localhost:8080/"
        }
      },
      "outputs": [
        {
          "output_type": "stream",
          "name": "stdout",
          "text": [
            "\n",
            "Label Encoded DataFrame:\n",
            "   Category  Status\n",
            "0         3       0\n",
            "1         0       1\n",
            "2         6       0\n",
            "3         2       0\n",
            "4         5       1\n",
            "5         4       0\n",
            "6         1       0\n"
          ]
        }
      ],
      "source": [
        "print(\"\\nLabel Encoded DataFrame:\")\n",
        "print(label)"
      ]
    },
    {
      "cell_type": "markdown",
      "id": "2ce3f60c",
      "metadata": {
        "id": "2ce3f60c"
      },
      "source": [
        "Question 15: Consistent Rating Scale:Ensure a consistent rating scale in the Rating column. Should it be normalized or adjusted for uniform analysis?\n"
      ]
    },
    {
      "cell_type": "code",
      "execution_count": 215,
      "id": "c17b8395",
      "metadata": {
        "id": "c17b8395"
      },
      "outputs": [],
      "source": [
        "df = {'Rating': ['5.4', '3.5', '2.4', '1.0', '7.7']}\n",
        "data = pd.DataFrame(df)"
      ]
    },
    {
      "cell_type": "code",
      "execution_count": 216,
      "id": "af0150fa",
      "metadata": {
        "id": "af0150fa"
      },
      "outputs": [],
      "source": [
        "data['Rating'] = pd.to_numeric(data['Rating'], errors='coerce')"
      ]
    },
    {
      "cell_type": "code",
      "execution_count": 217,
      "id": "e94c0091",
      "metadata": {
        "id": "e94c0091"
      },
      "outputs": [],
      "source": [
        "invalid_ratings = data[data['Rating'].isnull()]\n",
        "if not invalid_ratings.empty:\n",
        "    print(\"Invalid Ratings:\")\n",
        "    print(invalid_ratings)"
      ]
    },
    {
      "cell_type": "code",
      "execution_count": 218,
      "id": "ec994384",
      "metadata": {
        "id": "ec994384"
      },
      "outputs": [],
      "source": [
        "data['Normalized_Rating'] = (data['Rating'] - data['Rating'].min()) / (data['Rating'].max() - data['Rating'].min())\n"
      ]
    },
    {
      "cell_type": "code",
      "execution_count": 219,
      "id": "7a310732",
      "metadata": {
        "id": "7a310732",
        "outputId": "9fc357f6-0d54-41eb-f368-3a1933c15b0c",
        "colab": {
          "base_uri": "https://localhost:8080/"
        }
      },
      "outputs": [
        {
          "output_type": "stream",
          "name": "stdout",
          "text": [
            "\n",
            "DataFrame with Normalized Ratings:\n",
            "   Rating  Normalized_Rating\n",
            "0     5.4           0.656716\n",
            "1     3.5           0.373134\n",
            "2     2.4           0.208955\n",
            "3     1.0           0.000000\n",
            "4     7.7           1.000000\n"
          ]
        }
      ],
      "source": [
        "print(\"\\nDataFrame with Normalized Ratings:\")\n",
        "print(data[['Rating', 'Normalized_Rating']])"
      ]
    },
    {
      "cell_type": "code",
      "execution_count": 220,
      "id": "67ac873e",
      "metadata": {
        "id": "67ac873e",
        "outputId": "92fa71b2-f427-406c-9334-14035fa1830e",
        "colab": {
          "base_uri": "https://localhost:8080/",
          "height": 206
        }
      },
      "outputs": [
        {
          "output_type": "execute_result",
          "data": {
            "text/plain": [
              "   Rating  Normalized_Rating\n",
              "0     5.4           0.656716\n",
              "1     3.5           0.373134\n",
              "2     2.4           0.208955\n",
              "3     1.0           0.000000\n",
              "4     7.7           1.000000"
            ],
            "text/html": [
              "\n",
              "  <div id=\"df-8f33ed5e-ff57-407a-b852-8b001a2b5a51\" class=\"colab-df-container\">\n",
              "    <div>\n",
              "<style scoped>\n",
              "    .dataframe tbody tr th:only-of-type {\n",
              "        vertical-align: middle;\n",
              "    }\n",
              "\n",
              "    .dataframe tbody tr th {\n",
              "        vertical-align: top;\n",
              "    }\n",
              "\n",
              "    .dataframe thead th {\n",
              "        text-align: right;\n",
              "    }\n",
              "</style>\n",
              "<table border=\"1\" class=\"dataframe\">\n",
              "  <thead>\n",
              "    <tr style=\"text-align: right;\">\n",
              "      <th></th>\n",
              "      <th>Rating</th>\n",
              "      <th>Normalized_Rating</th>\n",
              "    </tr>\n",
              "  </thead>\n",
              "  <tbody>\n",
              "    <tr>\n",
              "      <th>0</th>\n",
              "      <td>5.4</td>\n",
              "      <td>0.656716</td>\n",
              "    </tr>\n",
              "    <tr>\n",
              "      <th>1</th>\n",
              "      <td>3.5</td>\n",
              "      <td>0.373134</td>\n",
              "    </tr>\n",
              "    <tr>\n",
              "      <th>2</th>\n",
              "      <td>2.4</td>\n",
              "      <td>0.208955</td>\n",
              "    </tr>\n",
              "    <tr>\n",
              "      <th>3</th>\n",
              "      <td>1.0</td>\n",
              "      <td>0.000000</td>\n",
              "    </tr>\n",
              "    <tr>\n",
              "      <th>4</th>\n",
              "      <td>7.7</td>\n",
              "      <td>1.000000</td>\n",
              "    </tr>\n",
              "  </tbody>\n",
              "</table>\n",
              "</div>\n",
              "    <div class=\"colab-df-buttons\">\n",
              "\n",
              "  <div class=\"colab-df-container\">\n",
              "    <button class=\"colab-df-convert\" onclick=\"convertToInteractive('df-8f33ed5e-ff57-407a-b852-8b001a2b5a51')\"\n",
              "            title=\"Convert this dataframe to an interactive table.\"\n",
              "            style=\"display:none;\">\n",
              "\n",
              "  <svg xmlns=\"http://www.w3.org/2000/svg\" height=\"24px\" viewBox=\"0 -960 960 960\">\n",
              "    <path d=\"M120-120v-720h720v720H120Zm60-500h600v-160H180v160Zm220 220h160v-160H400v160Zm0 220h160v-160H400v160ZM180-400h160v-160H180v160Zm440 0h160v-160H620v160ZM180-180h160v-160H180v160Zm440 0h160v-160H620v160Z\"/>\n",
              "  </svg>\n",
              "    </button>\n",
              "\n",
              "  <style>\n",
              "    .colab-df-container {\n",
              "      display:flex;\n",
              "      gap: 12px;\n",
              "    }\n",
              "\n",
              "    .colab-df-convert {\n",
              "      background-color: #E8F0FE;\n",
              "      border: none;\n",
              "      border-radius: 50%;\n",
              "      cursor: pointer;\n",
              "      display: none;\n",
              "      fill: #1967D2;\n",
              "      height: 32px;\n",
              "      padding: 0 0 0 0;\n",
              "      width: 32px;\n",
              "    }\n",
              "\n",
              "    .colab-df-convert:hover {\n",
              "      background-color: #E2EBFA;\n",
              "      box-shadow: 0px 1px 2px rgba(60, 64, 67, 0.3), 0px 1px 3px 1px rgba(60, 64, 67, 0.15);\n",
              "      fill: #174EA6;\n",
              "    }\n",
              "\n",
              "    .colab-df-buttons div {\n",
              "      margin-bottom: 4px;\n",
              "    }\n",
              "\n",
              "    [theme=dark] .colab-df-convert {\n",
              "      background-color: #3B4455;\n",
              "      fill: #D2E3FC;\n",
              "    }\n",
              "\n",
              "    [theme=dark] .colab-df-convert:hover {\n",
              "      background-color: #434B5C;\n",
              "      box-shadow: 0px 1px 3px 1px rgba(0, 0, 0, 0.15);\n",
              "      filter: drop-shadow(0px 1px 2px rgba(0, 0, 0, 0.3));\n",
              "      fill: #FFFFFF;\n",
              "    }\n",
              "  </style>\n",
              "\n",
              "    <script>\n",
              "      const buttonEl =\n",
              "        document.querySelector('#df-8f33ed5e-ff57-407a-b852-8b001a2b5a51 button.colab-df-convert');\n",
              "      buttonEl.style.display =\n",
              "        google.colab.kernel.accessAllowed ? 'block' : 'none';\n",
              "\n",
              "      async function convertToInteractive(key) {\n",
              "        const element = document.querySelector('#df-8f33ed5e-ff57-407a-b852-8b001a2b5a51');\n",
              "        const dataTable =\n",
              "          await google.colab.kernel.invokeFunction('convertToInteractive',\n",
              "                                                    [key], {});\n",
              "        if (!dataTable) return;\n",
              "\n",
              "        const docLinkHtml = 'Like what you see? Visit the ' +\n",
              "          '<a target=\"_blank\" href=https://colab.research.google.com/notebooks/data_table.ipynb>data table notebook</a>'\n",
              "          + ' to learn more about interactive tables.';\n",
              "        element.innerHTML = '';\n",
              "        dataTable['output_type'] = 'display_data';\n",
              "        await google.colab.output.renderOutput(dataTable, element);\n",
              "        const docLink = document.createElement('div');\n",
              "        docLink.innerHTML = docLinkHtml;\n",
              "        element.appendChild(docLink);\n",
              "      }\n",
              "    </script>\n",
              "  </div>\n",
              "\n",
              "\n",
              "<div id=\"df-cb26dddb-6253-4a9f-a50d-1bd9b4d4ce61\">\n",
              "  <button class=\"colab-df-quickchart\" onclick=\"quickchart('df-cb26dddb-6253-4a9f-a50d-1bd9b4d4ce61')\"\n",
              "            title=\"Suggest charts\"\n",
              "            style=\"display:none;\">\n",
              "\n",
              "<svg xmlns=\"http://www.w3.org/2000/svg\" height=\"24px\"viewBox=\"0 0 24 24\"\n",
              "     width=\"24px\">\n",
              "    <g>\n",
              "        <path d=\"M19 3H5c-1.1 0-2 .9-2 2v14c0 1.1.9 2 2 2h14c1.1 0 2-.9 2-2V5c0-1.1-.9-2-2-2zM9 17H7v-7h2v7zm4 0h-2V7h2v10zm4 0h-2v-4h2v4z\"/>\n",
              "    </g>\n",
              "</svg>\n",
              "  </button>\n",
              "\n",
              "<style>\n",
              "  .colab-df-quickchart {\n",
              "      --bg-color: #E8F0FE;\n",
              "      --fill-color: #1967D2;\n",
              "      --hover-bg-color: #E2EBFA;\n",
              "      --hover-fill-color: #174EA6;\n",
              "      --disabled-fill-color: #AAA;\n",
              "      --disabled-bg-color: #DDD;\n",
              "  }\n",
              "\n",
              "  [theme=dark] .colab-df-quickchart {\n",
              "      --bg-color: #3B4455;\n",
              "      --fill-color: #D2E3FC;\n",
              "      --hover-bg-color: #434B5C;\n",
              "      --hover-fill-color: #FFFFFF;\n",
              "      --disabled-bg-color: #3B4455;\n",
              "      --disabled-fill-color: #666;\n",
              "  }\n",
              "\n",
              "  .colab-df-quickchart {\n",
              "    background-color: var(--bg-color);\n",
              "    border: none;\n",
              "    border-radius: 50%;\n",
              "    cursor: pointer;\n",
              "    display: none;\n",
              "    fill: var(--fill-color);\n",
              "    height: 32px;\n",
              "    padding: 0;\n",
              "    width: 32px;\n",
              "  }\n",
              "\n",
              "  .colab-df-quickchart:hover {\n",
              "    background-color: var(--hover-bg-color);\n",
              "    box-shadow: 0 1px 2px rgba(60, 64, 67, 0.3), 0 1px 3px 1px rgba(60, 64, 67, 0.15);\n",
              "    fill: var(--button-hover-fill-color);\n",
              "  }\n",
              "\n",
              "  .colab-df-quickchart-complete:disabled,\n",
              "  .colab-df-quickchart-complete:disabled:hover {\n",
              "    background-color: var(--disabled-bg-color);\n",
              "    fill: var(--disabled-fill-color);\n",
              "    box-shadow: none;\n",
              "  }\n",
              "\n",
              "  .colab-df-spinner {\n",
              "    border: 2px solid var(--fill-color);\n",
              "    border-color: transparent;\n",
              "    border-bottom-color: var(--fill-color);\n",
              "    animation:\n",
              "      spin 1s steps(1) infinite;\n",
              "  }\n",
              "\n",
              "  @keyframes spin {\n",
              "    0% {\n",
              "      border-color: transparent;\n",
              "      border-bottom-color: var(--fill-color);\n",
              "      border-left-color: var(--fill-color);\n",
              "    }\n",
              "    20% {\n",
              "      border-color: transparent;\n",
              "      border-left-color: var(--fill-color);\n",
              "      border-top-color: var(--fill-color);\n",
              "    }\n",
              "    30% {\n",
              "      border-color: transparent;\n",
              "      border-left-color: var(--fill-color);\n",
              "      border-top-color: var(--fill-color);\n",
              "      border-right-color: var(--fill-color);\n",
              "    }\n",
              "    40% {\n",
              "      border-color: transparent;\n",
              "      border-right-color: var(--fill-color);\n",
              "      border-top-color: var(--fill-color);\n",
              "    }\n",
              "    60% {\n",
              "      border-color: transparent;\n",
              "      border-right-color: var(--fill-color);\n",
              "    }\n",
              "    80% {\n",
              "      border-color: transparent;\n",
              "      border-right-color: var(--fill-color);\n",
              "      border-bottom-color: var(--fill-color);\n",
              "    }\n",
              "    90% {\n",
              "      border-color: transparent;\n",
              "      border-bottom-color: var(--fill-color);\n",
              "    }\n",
              "  }\n",
              "</style>\n",
              "\n",
              "  <script>\n",
              "    async function quickchart(key) {\n",
              "      const quickchartButtonEl =\n",
              "        document.querySelector('#' + key + ' button');\n",
              "      quickchartButtonEl.disabled = true;  // To prevent multiple clicks.\n",
              "      quickchartButtonEl.classList.add('colab-df-spinner');\n",
              "      try {\n",
              "        const charts = await google.colab.kernel.invokeFunction(\n",
              "            'suggestCharts', [key], {});\n",
              "      } catch (error) {\n",
              "        console.error('Error during call to suggestCharts:', error);\n",
              "      }\n",
              "      quickchartButtonEl.classList.remove('colab-df-spinner');\n",
              "      quickchartButtonEl.classList.add('colab-df-quickchart-complete');\n",
              "    }\n",
              "    (() => {\n",
              "      let quickchartButtonEl =\n",
              "        document.querySelector('#df-cb26dddb-6253-4a9f-a50d-1bd9b4d4ce61 button');\n",
              "      quickchartButtonEl.style.display =\n",
              "        google.colab.kernel.accessAllowed ? 'block' : 'none';\n",
              "    })();\n",
              "  </script>\n",
              "</div>\n",
              "\n",
              "  <div id=\"id_7728da8d-7e81-4420-82ee-ad6a72114b0d\">\n",
              "    <style>\n",
              "      .colab-df-generate {\n",
              "        background-color: #E8F0FE;\n",
              "        border: none;\n",
              "        border-radius: 50%;\n",
              "        cursor: pointer;\n",
              "        display: none;\n",
              "        fill: #1967D2;\n",
              "        height: 32px;\n",
              "        padding: 0 0 0 0;\n",
              "        width: 32px;\n",
              "      }\n",
              "\n",
              "      .colab-df-generate:hover {\n",
              "        background-color: #E2EBFA;\n",
              "        box-shadow: 0px 1px 2px rgba(60, 64, 67, 0.3), 0px 1px 3px 1px rgba(60, 64, 67, 0.15);\n",
              "        fill: #174EA6;\n",
              "      }\n",
              "\n",
              "      [theme=dark] .colab-df-generate {\n",
              "        background-color: #3B4455;\n",
              "        fill: #D2E3FC;\n",
              "      }\n",
              "\n",
              "      [theme=dark] .colab-df-generate:hover {\n",
              "        background-color: #434B5C;\n",
              "        box-shadow: 0px 1px 3px 1px rgba(0, 0, 0, 0.15);\n",
              "        filter: drop-shadow(0px 1px 2px rgba(0, 0, 0, 0.3));\n",
              "        fill: #FFFFFF;\n",
              "      }\n",
              "    </style>\n",
              "    <button class=\"colab-df-generate\" onclick=\"generateWithVariable('data')\"\n",
              "            title=\"Generate code using this dataframe.\"\n",
              "            style=\"display:none;\">\n",
              "\n",
              "  <svg xmlns=\"http://www.w3.org/2000/svg\" height=\"24px\"viewBox=\"0 0 24 24\"\n",
              "       width=\"24px\">\n",
              "    <path d=\"M7,19H8.4L18.45,9,17,7.55,7,17.6ZM5,21V16.75L18.45,3.32a2,2,0,0,1,2.83,0l1.4,1.43a1.91,1.91,0,0,1,.58,1.4,1.91,1.91,0,0,1-.58,1.4L9.25,21ZM18.45,9,17,7.55Zm-12,3A5.31,5.31,0,0,0,4.9,8.1,5.31,5.31,0,0,0,1,6.5,5.31,5.31,0,0,0,4.9,4.9,5.31,5.31,0,0,0,6.5,1,5.31,5.31,0,0,0,8.1,4.9,5.31,5.31,0,0,0,12,6.5,5.46,5.46,0,0,0,6.5,12Z\"/>\n",
              "  </svg>\n",
              "    </button>\n",
              "    <script>\n",
              "      (() => {\n",
              "      const buttonEl =\n",
              "        document.querySelector('#id_7728da8d-7e81-4420-82ee-ad6a72114b0d button.colab-df-generate');\n",
              "      buttonEl.style.display =\n",
              "        google.colab.kernel.accessAllowed ? 'block' : 'none';\n",
              "\n",
              "      buttonEl.onclick = () => {\n",
              "        google.colab.notebook.generateWithVariable('data');\n",
              "      }\n",
              "      })();\n",
              "    </script>\n",
              "  </div>\n",
              "\n",
              "    </div>\n",
              "  </div>\n"
            ]
          },
          "metadata": {},
          "execution_count": 220
        }
      ],
      "source": [
        "data"
      ]
    },
    {
      "cell_type": "code",
      "execution_count": null,
      "id": "055eacff",
      "metadata": {
        "id": "055eacff"
      },
      "outputs": [],
      "source": []
    }
  ],
  "metadata": {
    "kernelspec": {
      "display_name": "Python 3 (ipykernel)",
      "language": "python",
      "name": "python3"
    },
    "language_info": {
      "codemirror_mode": {
        "name": "ipython",
        "version": 3
      },
      "file_extension": ".py",
      "mimetype": "text/x-python",
      "name": "python",
      "nbconvert_exporter": "python",
      "pygments_lexer": "ipython3",
      "version": "3.11.5"
    },
    "colab": {
      "provenance": []
    }
  },
  "nbformat": 4,
  "nbformat_minor": 5
}